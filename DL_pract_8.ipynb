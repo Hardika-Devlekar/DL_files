{
  "nbformat": 4,
  "nbformat_minor": 0,
  "metadata": {
    "colab": {
      "provenance": []
    },
    "kernelspec": {
      "name": "python3",
      "display_name": "Python 3"
    },
    "language_info": {
      "name": "python"
    }
  },
  "cells": [
    {
      "cell_type": "code",
      "execution_count": null,
      "metadata": {
        "id": "tzOhRTJzzhAU"
      },
      "outputs": [],
      "source": [
        "import keras\n",
        "from keras import layers"
      ]
    },
    {
      "cell_type": "code",
      "source": [
        "# This is the size of our encoded representations\n",
        "encoding_dim = 32  # 32 floats -> compression of factor 24.5, assuming the input is 784 floats\n",
        "\n",
        "# This is our input image\n",
        "input_img = keras.Input(shape=(784,))\n",
        "# \"encoded\" is the encoded representation of the input\n",
        "encoded = layers.Dense(encoding_dim, activation='relu')(input_img)\n",
        "# \"decoded\" is the lossy reconstruction of the input\n",
        "decoded = layers.Dense(784, activation='sigmoid')(encoded)"
      ],
      "metadata": {
        "id": "C6V1gYlLzjVN"
      },
      "execution_count": null,
      "outputs": []
    },
    {
      "cell_type": "code",
      "source": [
        "# This model maps an input to its reconstruction\n",
        "autoencoder = keras.Model(input_img, decoded)"
      ],
      "metadata": {
        "id": "SSlgpc4OzlXY"
      },
      "execution_count": null,
      "outputs": []
    },
    {
      "cell_type": "code",
      "source": [
        "#Let's also create a separate encoder model:\n",
        "\n",
        "# This model maps an input to its encoded representation\n",
        "encoder = keras.Model(input_img, encoded)"
      ],
      "metadata": {
        "id": "tSD0ydRWzrzC"
      },
      "execution_count": null,
      "outputs": []
    },
    {
      "cell_type": "code",
      "source": [
        "# This is our encoded (32-dimensional) input\n",
        "encoded_input = keras.Input(shape=(encoding_dim,))\n",
        "# Retrieve the last layer of the autoencoder model\n",
        "decoder_layer = autoencoder.layers[-1]\n",
        "# Create the decoder model\n",
        "decoder = keras.Model(encoded_input, decoder_layer(encoded_input))"
      ],
      "metadata": {
        "id": "AHKqocdTzuQy"
      },
      "execution_count": null,
      "outputs": []
    },
    {
      "cell_type": "code",
      "source": [
        "#Now let's train our autoencoder to reconstruct MNIST digits.\n",
        "\n",
        "#First, we'll configure our model to use a per-pixel binary crossentropy loss, and the Adam optimizer:\n",
        "\n",
        "autoencoder.compile(optimizer='adam', loss='binary_crossentropy')"
      ],
      "metadata": {
        "id": "EGjhWAR1zwdG"
      },
      "execution_count": null,
      "outputs": []
    },
    {
      "cell_type": "code",
      "source": [
        "#Let's prepare our input data. We're using MNIST digits, and we're discarding the labels (since we're only interested in encoding/decoding the input images).\n",
        "\n",
        "from keras.datasets import mnist\n",
        "import numpy as np\n",
        "(x_train, _), (x_test, _) = mnist.load_data()"
      ],
      "metadata": {
        "colab": {
          "base_uri": "https://localhost:8080/"
        },
        "id": "mbQ3YYCfz1-L",
        "outputId": "de4b1722-6676-4b20-961a-13aa774d9894"
      },
      "execution_count": null,
      "outputs": [
        {
          "output_type": "stream",
          "name": "stdout",
          "text": [
            "Downloading data from https://storage.googleapis.com/tensorflow/tf-keras-datasets/mnist.npz\n",
            "11490434/11490434 [==============================] - 0s 0us/step\n"
          ]
        }
      ]
    },
    {
      "cell_type": "code",
      "source": [
        "# We will normalize all values between 0 and 1 and we will flatten the 28x28 images into vectors of size 784.\n",
        "\n",
        "x_train = x_train.astype('float32') / 255.\n",
        "x_test = x_test.astype('float32') / 255.\n",
        "x_train = x_train.reshape((len(x_train), np.prod(x_train.shape[1:])))\n",
        "x_test = x_test.reshape((len(x_test), np.prod(x_test.shape[1:])))\n",
        "print(x_train.shape)\n",
        "print(x_test.shape)"
      ],
      "metadata": {
        "colab": {
          "base_uri": "https://localhost:8080/"
        },
        "id": "u5Q942glz4jU",
        "outputId": "41128878-bff7-43b5-b42b-62c651afabb6"
      },
      "execution_count": null,
      "outputs": [
        {
          "output_type": "stream",
          "name": "stdout",
          "text": [
            "(60000, 784)\n",
            "(10000, 784)\n"
          ]
        }
      ]
    },
    {
      "cell_type": "code",
      "source": [
        "# Now let's train our autoencoder for 50 epochs:\n",
        "\n",
        "autoencoder.fit(x_train, x_train,\n",
        "                epochs=50,\n",
        "                batch_size=256,\n",
        "                shuffle=True,\n",
        "                validation_data=(x_test, x_test))"
      ],
      "metadata": {
        "colab": {
          "base_uri": "https://localhost:8080/"
        },
        "id": "ey0MXlupz62E",
        "outputId": "28a72c66-9f0a-45f9-80c1-0e131f436cd5"
      },
      "execution_count": null,
      "outputs": [
        {
          "output_type": "stream",
          "name": "stdout",
          "text": [
            "Epoch 1/50\n",
            "235/235 [==============================] - 4s 12ms/step - loss: 0.2765 - val_loss: 0.1899\n",
            "Epoch 2/50\n",
            "235/235 [==============================] - 3s 11ms/step - loss: 0.1711 - val_loss: 0.1536\n",
            "Epoch 3/50\n",
            "235/235 [==============================] - 3s 11ms/step - loss: 0.1437 - val_loss: 0.1328\n",
            "Epoch 4/50\n",
            "235/235 [==============================] - 3s 15ms/step - loss: 0.1277 - val_loss: 0.1205\n",
            "Epoch 5/50\n",
            "235/235 [==============================] - 3s 12ms/step - loss: 0.1176 - val_loss: 0.1125\n",
            "Epoch 6/50\n",
            "235/235 [==============================] - 4s 18ms/step - loss: 0.1109 - val_loss: 0.1070\n",
            "Epoch 7/50\n",
            "235/235 [==============================] - 3s 11ms/step - loss: 0.1060 - val_loss: 0.1029\n",
            "Epoch 8/50\n",
            "235/235 [==============================] - 4s 15ms/step - loss: 0.1024 - val_loss: 0.0997\n",
            "Epoch 9/50\n",
            "235/235 [==============================] - 5s 21ms/step - loss: 0.0996 - val_loss: 0.0973\n",
            "Epoch 10/50\n",
            "235/235 [==============================] - 5s 21ms/step - loss: 0.0977 - val_loss: 0.0957\n",
            "Epoch 11/50\n",
            "235/235 [==============================] - 6s 27ms/step - loss: 0.0964 - val_loss: 0.0947\n",
            "Epoch 12/50\n",
            "235/235 [==============================] - 2s 10ms/step - loss: 0.0956 - val_loss: 0.0940\n",
            "Epoch 13/50\n",
            "235/235 [==============================] - 2s 11ms/step - loss: 0.0950 - val_loss: 0.0936\n",
            "Epoch 14/50\n",
            "235/235 [==============================] - 2s 10ms/step - loss: 0.0946 - val_loss: 0.0932\n",
            "Epoch 15/50\n",
            "235/235 [==============================] - 3s 11ms/step - loss: 0.0943 - val_loss: 0.0930\n",
            "Epoch 16/50\n",
            "235/235 [==============================] - 4s 16ms/step - loss: 0.0941 - val_loss: 0.0929\n",
            "Epoch 17/50\n",
            "235/235 [==============================] - 2s 11ms/step - loss: 0.0940 - val_loss: 0.0927\n",
            "Epoch 18/50\n",
            "235/235 [==============================] - 3s 11ms/step - loss: 0.0938 - val_loss: 0.0926\n",
            "Epoch 19/50\n",
            "235/235 [==============================] - 3s 11ms/step - loss: 0.0937 - val_loss: 0.0924\n",
            "Epoch 20/50\n",
            "235/235 [==============================] - 3s 11ms/step - loss: 0.0936 - val_loss: 0.0925\n",
            "Epoch 21/50\n",
            "235/235 [==============================] - 4s 16ms/step - loss: 0.0935 - val_loss: 0.0924\n",
            "Epoch 22/50\n",
            "235/235 [==============================] - 3s 11ms/step - loss: 0.0935 - val_loss: 0.0923\n",
            "Epoch 23/50\n",
            "235/235 [==============================] - 2s 10ms/step - loss: 0.0934 - val_loss: 0.0923\n",
            "Epoch 24/50\n",
            "235/235 [==============================] - 3s 11ms/step - loss: 0.0934 - val_loss: 0.0923\n",
            "Epoch 25/50\n",
            "235/235 [==============================] - 3s 11ms/step - loss: 0.0933 - val_loss: 0.0921\n",
            "Epoch 26/50\n",
            "235/235 [==============================] - 4s 16ms/step - loss: 0.0933 - val_loss: 0.0921\n",
            "Epoch 27/50\n",
            "235/235 [==============================] - 3s 11ms/step - loss: 0.0932 - val_loss: 0.0921\n",
            "Epoch 28/50\n",
            "235/235 [==============================] - 3s 14ms/step - loss: 0.0932 - val_loss: 0.0921\n",
            "Epoch 29/50\n",
            "235/235 [==============================] - 3s 12ms/step - loss: 0.0932 - val_loss: 0.0920\n",
            "Epoch 30/50\n",
            "235/235 [==============================] - 3s 13ms/step - loss: 0.0931 - val_loss: 0.0920\n",
            "Epoch 31/50\n",
            "235/235 [==============================] - 3s 13ms/step - loss: 0.0931 - val_loss: 0.0920\n",
            "Epoch 32/50\n",
            "235/235 [==============================] - 3s 11ms/step - loss: 0.0931 - val_loss: 0.0920\n",
            "Epoch 33/50\n",
            "235/235 [==============================] - 2s 10ms/step - loss: 0.0931 - val_loss: 0.0920\n",
            "Epoch 34/50\n",
            "235/235 [==============================] - 3s 11ms/step - loss: 0.0930 - val_loss: 0.0919\n",
            "Epoch 35/50\n",
            "235/235 [==============================] - 3s 13ms/step - loss: 0.0930 - val_loss: 0.0919\n",
            "Epoch 36/50\n",
            "235/235 [==============================] - 3s 14ms/step - loss: 0.0930 - val_loss: 0.0919\n",
            "Epoch 37/50\n",
            "235/235 [==============================] - 3s 11ms/step - loss: 0.0930 - val_loss: 0.0918\n",
            "Epoch 38/50\n",
            "235/235 [==============================] - 3s 11ms/step - loss: 0.0930 - val_loss: 0.0918\n",
            "Epoch 39/50\n",
            "235/235 [==============================] - 3s 11ms/step - loss: 0.0929 - val_loss: 0.0919\n",
            "Epoch 40/50\n",
            "235/235 [==============================] - 3s 14ms/step - loss: 0.0929 - val_loss: 0.0918\n",
            "Epoch 41/50\n",
            "235/235 [==============================] - 3s 13ms/step - loss: 0.0929 - val_loss: 0.0919\n",
            "Epoch 42/50\n",
            "235/235 [==============================] - 3s 11ms/step - loss: 0.0929 - val_loss: 0.0919\n",
            "Epoch 43/50\n",
            "235/235 [==============================] - 3s 13ms/step - loss: 0.0929 - val_loss: 0.0919\n",
            "Epoch 44/50\n",
            "235/235 [==============================] - 3s 11ms/step - loss: 0.0929 - val_loss: 0.0918\n",
            "Epoch 45/50\n",
            "235/235 [==============================] - 4s 16ms/step - loss: 0.0929 - val_loss: 0.0918\n",
            "Epoch 46/50\n",
            "235/235 [==============================] - 3s 11ms/step - loss: 0.0929 - val_loss: 0.0918\n",
            "Epoch 47/50\n",
            "235/235 [==============================] - 2s 11ms/step - loss: 0.0928 - val_loss: 0.0919\n",
            "Epoch 48/50\n",
            "235/235 [==============================] - 3s 11ms/step - loss: 0.0928 - val_loss: 0.0919\n",
            "Epoch 49/50\n",
            "235/235 [==============================] - 3s 11ms/step - loss: 0.0928 - val_loss: 0.0918\n",
            "Epoch 50/50\n",
            "235/235 [==============================] - 4s 16ms/step - loss: 0.0928 - val_loss: 0.0918\n"
          ]
        },
        {
          "output_type": "execute_result",
          "data": {
            "text/plain": [
              "<keras.src.callbacks.History at 0x7e3f38a23400>"
            ]
          },
          "metadata": {},
          "execution_count": 9
        }
      ]
    },
    {
      "cell_type": "code",
      "source": [
        "# Encode and decode some digits\n",
        "# Note that we take them from the *test* set\n",
        "encoded_imgs = encoder.predict(x_test)\n",
        "decoded_imgs = decoder.predict(encoded_imgs)"
      ],
      "metadata": {
        "colab": {
          "base_uri": "https://localhost:8080/"
        },
        "id": "LoUXWn8oz9JC",
        "outputId": "99b5e865-3940-4a02-db17-d4b72216676d"
      },
      "execution_count": null,
      "outputs": [
        {
          "output_type": "stream",
          "name": "stdout",
          "text": [
            "313/313 [==============================] - 1s 2ms/step\n",
            "313/313 [==============================] - 1s 2ms/step\n"
          ]
        }
      ]
    },
    {
      "cell_type": "code",
      "source": [
        "# Use Matplotlib\n",
        "import matplotlib.pyplot as plt\n",
        "\n",
        "n = 10  # How many digits we will display\n",
        "plt.figure(figsize=(20, 4))\n",
        "for i in range(n):\n",
        "    # Display original\n",
        "    ax = plt.subplot(2, n, i + 1)\n",
        "    plt.imshow(x_test[i].reshape(28, 28))\n",
        "    plt.gray()\n",
        "    ax.get_xaxis().set_visible(False)\n",
        "    ax.get_yaxis().set_visible(False)\n",
        "\n",
        "    # Display reconstruction\n",
        "    ax = plt.subplot(2, n, i + 1 + n)\n",
        "    plt.imshow(decoded_imgs[i].reshape(28, 28))\n",
        "    plt.gray()\n",
        "    ax.get_xaxis().set_visible(False)\n",
        "    ax.get_yaxis().set_visible(False)\n",
        "plt.show()"
      ],
      "metadata": {
        "colab": {
          "base_uri": "https://localhost:8080/",
          "height": 304
        },
        "id": "tgFwTVWG0BXi",
        "outputId": "e531172e-f91c-4b2b-9452-6f247eb97520"
      },
      "execution_count": null,
      "outputs": [
        {
          "output_type": "display_data",
          "data": {
            "text/plain": [
              "<Figure size 2000x400 with 20 Axes>"
            ],
            "image/png": "[encoded data removed]"
          },
          "metadata": {}
        }
      ]
    },
    {
      "cell_type": "code",
      "source": [
        "from keras import regularizers\n",
        "\n",
        "encoding_dim = 32\n",
        "\n",
        "input_img = keras.Input(shape=(784,))\n",
        "# Add a Dense layer with a L1 activity regularizer\n",
        "encoded = layers.Dense(encoding_dim, activation='relu',\n",
        "                activity_regularizer=regularizers.l1(10e-5))(input_img)\n",
        "decoded = layers.Dense(784, activation='sigmoid')(encoded)\n",
        "\n",
        "autoencoder = keras.Model(input_img, decoded)"
      ],
      "metadata": {
        "id": "WiSzY7BQ0Dtn"
      },
      "execution_count": null,
      "outputs": []
    },
    {
      "cell_type": "code",
      "source": [
        "#Let's also create a separate encoder model:\n",
        "\n",
        "# This model maps an input to its encoded representation\n",
        "encoder = keras.Model(input_img, encoded)"
      ],
      "metadata": {
        "id": "MWU9bO2R2k55"
      },
      "execution_count": null,
      "outputs": []
    },
    {
      "cell_type": "code",
      "source": [
        "# This is our encoded (32-dimensional) input\n",
        "encoded_input = keras.Input(shape=(encoding_dim,))\n",
        "# Retrieve the last layer of the autoencoder model\n",
        "decoder_layer = autoencoder.layers[-1]\n",
        "# Create the decoder model\n",
        "decoder = keras.Model(encoded_input, decoder_layer(encoded_input))"
      ],
      "metadata": {
        "id": "WOLdB0hZ2sIJ"
      },
      "execution_count": null,
      "outputs": []
    },
    {
      "cell_type": "code",
      "source": [
        "#Now let's train our autoencoder to reconstruct MNIST digits.\n",
        "\n",
        "#First, we'll configure our model to use a per-pixel binary crossentropy loss, and the Adam optimizer:\n",
        "\n",
        "autoencoder.compile(optimizer='adam', loss='binary_crossentropy')"
      ],
      "metadata": {
        "id": "NV_wx84e2ucu"
      },
      "execution_count": null,
      "outputs": []
    },
    {
      "cell_type": "code",
      "source": [
        "#Let's prepare our input data. We're using MNIST digits, and we're discarding the labels (since we're only interested in encoding/decoding the input images).\n",
        "\n",
        "from keras.datasets import mnist\n",
        "import numpy as np\n",
        "(x_train, _), (x_test, _) = mnist.load_data()"
      ],
      "metadata": {
        "id": "SAGuuGz82w_C"
      },
      "execution_count": null,
      "outputs": []
    },
    {
      "cell_type": "code",
      "source": [
        "# We will normalize all values between 0 and 1 and we will flatten the 28x28 images into vectors of size 784.\n",
        "\n",
        "x_train = x_train.astype('float32') / 255.\n",
        "x_test = x_test.astype('float32') / 255.\n",
        "x_train = x_train.reshape((len(x_train), np.prod(x_train.shape[1:])))\n",
        "x_test = x_test.reshape((len(x_test), np.prod(x_test.shape[1:])))\n",
        "print(x_train.shape)\n",
        "print(x_test.shape)"
      ],
      "metadata": {
        "colab": {
          "base_uri": "https://localhost:8080/"
        },
        "id": "PZJLuFDD2zO1",
        "outputId": "1ecefd25-ea01-4854-aece-c9652d77175b"
      },
      "execution_count": null,
      "outputs": [
        {
          "output_type": "stream",
          "name": "stdout",
          "text": [
            "(60000, 784)\n",
            "(10000, 784)\n"
          ]
        }
      ]
    },
    {
      "cell_type": "code",
      "source": [
        "# Now let's train our autoencoder for 50 epochs:\n",
        "\n",
        "autoencoder.fit(x_train, x_train,\n",
        "                epochs=50,\n",
        "                batch_size=256,\n",
        "                shuffle=True,\n",
        "                validation_data=(x_test, x_test))"
      ],
      "metadata": {
        "colab": {
          "base_uri": "https://localhost:8080/"
        },
        "id": "p0dUG2Wj21wj",
        "outputId": "4bd247b1-9f6b-4d86-9de4-c7aebc844c36"
      },
      "execution_count": null,
      "outputs": [
        {
          "output_type": "stream",
          "name": "stdout",
          "text": [
            "Epoch 1/50\n",
            "235/235 [==============================] - 4s 12ms/step - loss: 0.2836 - val_loss: 0.1923\n",
            "Epoch 2/50\n",
            "235/235 [==============================] - 4s 15ms/step - loss: 0.1762 - val_loss: 0.1610\n",
            "Epoch 3/50\n",
            "235/235 [==============================] - 3s 13ms/step - loss: 0.1528 - val_loss: 0.1429\n",
            "Epoch 4/50\n",
            "235/235 [==============================] - 3s 11ms/step - loss: 0.1384 - val_loss: 0.1314\n",
            "Epoch 5/50\n",
            "235/235 [==============================] - 3s 12ms/step - loss: 0.1288 - val_loss: 0.1237\n",
            "Epoch 6/50\n",
            "235/235 [==============================] - 3s 14ms/step - loss: 0.1221 - val_loss: 0.1179\n",
            "Epoch 7/50\n",
            "235/235 [==============================] - 4s 15ms/step - loss: 0.1171 - val_loss: 0.1136\n",
            "Epoch 8/50\n",
            "235/235 [==============================] - 3s 12ms/step - loss: 0.1134 - val_loss: 0.1106\n",
            "Epoch 9/50\n",
            "235/235 [==============================] - 3s 12ms/step - loss: 0.1107 - val_loss: 0.1083\n",
            "Epoch 10/50\n",
            "235/235 [==============================] - 3s 11ms/step - loss: 0.1089 - val_loss: 0.1068\n",
            "Epoch 11/50\n",
            "235/235 [==============================] - 4s 17ms/step - loss: 0.1076 - val_loss: 0.1057\n",
            "Epoch 12/50\n",
            "235/235 [==============================] - 3s 11ms/step - loss: 0.1067 - val_loss: 0.1049\n",
            "Epoch 13/50\n",
            "235/235 [==============================] - 3s 11ms/step - loss: 0.1059 - val_loss: 0.1042\n",
            "Epoch 14/50\n",
            "235/235 [==============================] - 3s 11ms/step - loss: 0.1053 - val_loss: 0.1037\n",
            "Epoch 15/50\n",
            "235/235 [==============================] - 3s 14ms/step - loss: 0.1048 - val_loss: 0.1032\n",
            "Epoch 16/50\n",
            "235/235 [==============================] - 4s 15ms/step - loss: 0.1043 - val_loss: 0.1028\n",
            "Epoch 17/50\n",
            "235/235 [==============================] - 3s 11ms/step - loss: 0.1039 - val_loss: 0.1024\n",
            "Epoch 18/50\n",
            "235/235 [==============================] - 3s 12ms/step - loss: 0.1035 - val_loss: 0.1021\n",
            "Epoch 19/50\n",
            "235/235 [==============================] - 3s 12ms/step - loss: 0.1032 - val_loss: 0.1018\n",
            "Epoch 20/50\n",
            "235/235 [==============================] - 4s 16ms/step - loss: 0.1029 - val_loss: 0.1015\n",
            "Epoch 21/50\n",
            "235/235 [==============================] - 3s 12ms/step - loss: 0.1026 - val_loss: 0.1013\n",
            "Epoch 22/50\n",
            "235/235 [==============================] - 3s 12ms/step - loss: 0.1024 - val_loss: 0.1010\n",
            "Epoch 23/50\n",
            "235/235 [==============================] - 3s 12ms/step - loss: 0.1021 - val_loss: 0.1008\n",
            "Epoch 24/50\n",
            "235/235 [==============================] - 3s 13ms/step - loss: 0.1019 - val_loss: 0.1006\n",
            "Epoch 25/50\n",
            "235/235 [==============================] - 4s 15ms/step - loss: 0.1017 - val_loss: 0.1004\n",
            "Epoch 26/50\n",
            "235/235 [==============================] - 3s 11ms/step - loss: 0.1015 - val_loss: 0.1002\n",
            "Epoch 27/50\n",
            "235/235 [==============================] - 3s 12ms/step - loss: 0.1013 - val_loss: 0.1000\n",
            "Epoch 28/50\n",
            "235/235 [==============================] - 3s 11ms/step - loss: 0.1011 - val_loss: 0.0999\n",
            "Epoch 29/50\n",
            "235/235 [==============================] - 3s 15ms/step - loss: 0.1010 - val_loss: 0.0997\n",
            "Epoch 30/50\n",
            "235/235 [==============================] - 3s 14ms/step - loss: 0.1008 - val_loss: 0.0995\n",
            "Epoch 31/50\n",
            "235/235 [==============================] - 3s 11ms/step - loss: 0.1007 - val_loss: 0.0994\n",
            "Epoch 32/50\n",
            "235/235 [==============================] - 3s 11ms/step - loss: 0.1005 - val_loss: 0.0993\n",
            "Epoch 33/50\n",
            "235/235 [==============================] - 3s 11ms/step - loss: 0.1004 - val_loss: 0.0992\n",
            "Epoch 34/50\n",
            "235/235 [==============================] - 4s 16ms/step - loss: 0.1003 - val_loss: 0.0990\n",
            "Epoch 35/50\n",
            "235/235 [==============================] - 3s 14ms/step - loss: 0.1001 - val_loss: 0.0989\n",
            "Epoch 36/50\n",
            "235/235 [==============================] - 3s 15ms/step - loss: 0.1000 - val_loss: 0.0988\n",
            "Epoch 37/50\n",
            "235/235 [==============================] - 3s 14ms/step - loss: 0.0999 - val_loss: 0.0987\n",
            "Epoch 38/50\n",
            "235/235 [==============================] - 4s 19ms/step - loss: 0.0998 - val_loss: 0.0986\n",
            "Epoch 39/50\n",
            "235/235 [==============================] - 3s 13ms/step - loss: 0.0997 - val_loss: 0.0985\n",
            "Epoch 40/50\n",
            "235/235 [==============================] - 3s 14ms/step - loss: 0.0996 - val_loss: 0.0984\n",
            "Epoch 41/50\n",
            "235/235 [==============================] - 3s 14ms/step - loss: 0.0995 - val_loss: 0.0984\n",
            "Epoch 42/50\n",
            "235/235 [==============================] - 3s 14ms/step - loss: 0.0994 - val_loss: 0.0982\n",
            "Epoch 43/50\n",
            "235/235 [==============================] - 4s 17ms/step - loss: 0.0993 - val_loss: 0.0982\n",
            "Epoch 44/50\n",
            "235/235 [==============================] - 3s 12ms/step - loss: 0.0993 - val_loss: 0.0981\n",
            "Epoch 45/50\n",
            "235/235 [==============================] - 3s 12ms/step - loss: 0.0992 - val_loss: 0.0980\n",
            "Epoch 46/50\n",
            "235/235 [==============================] - 3s 12ms/step - loss: 0.0991 - val_loss: 0.0980\n",
            "Epoch 47/50\n",
            "235/235 [==============================] - 4s 16ms/step - loss: 0.0990 - val_loss: 0.0978\n",
            "Epoch 48/50\n",
            "235/235 [==============================] - 3s 12ms/step - loss: 0.0990 - val_loss: 0.0979\n",
            "Epoch 49/50\n",
            "235/235 [==============================] - 3s 11ms/step - loss: 0.0989 - val_loss: 0.0977\n",
            "Epoch 50/50\n",
            "235/235 [==============================] - 4s 16ms/step - loss: 0.0988 - val_loss: 0.0976\n"
          ]
        },
        {
          "output_type": "execute_result",
          "data": {
            "text/plain": [
              "<keras.src.callbacks.History at 0x7e3f35c0d1b0>"
            ]
          },
          "metadata": {},
          "execution_count": 18
        }
      ]
    },
    {
      "cell_type": "code",
      "source": [
        "# Encode and decode some digits\n",
        "# Note that we take them from the *test* set\n",
        "encoded_imgs = encoder.predict(x_test)\n",
        "decoded_imgs = decoder.predict(encoded_imgs)"
      ],
      "metadata": {
        "colab": {
          "base_uri": "https://localhost:8080/"
        },
        "id": "R0GK1af73BcS",
        "outputId": "2e806594-b5b0-46db-f594-774818be660e"
      },
      "execution_count": null,
      "outputs": [
        {
          "output_type": "stream",
          "name": "stdout",
          "text": [
            "313/313 [==============================] - 2s 5ms/step\n",
            "313/313 [==============================] - 2s 5ms/step\n"
          ]
        }
      ]
    },
    {
      "cell_type": "code",
      "source": [
        "# Use Matplotlib\n",
        "import matplotlib.pyplot as plt\n",
        "\n",
        "n = 10  # How many digits we will display\n",
        "plt.figure(figsize=(20, 4))\n",
        "for i in range(n):\n",
        "    # Display original\n",
        "    ax = plt.subplot(2, n, i + 1)\n",
        "    plt.imshow(x_test[i].reshape(28, 28))\n",
        "    plt.gray()\n",
        "    ax.get_xaxis().set_visible(False)\n",
        "    ax.get_yaxis().set_visible(False)\n",
        "\n",
        "    # Display reconstruction\n",
        "    ax = plt.subplot(2, n, i + 1 + n)\n",
        "    plt.imshow(decoded_imgs[i].reshape(28, 28))\n",
        "    plt.gray()\n",
        "    ax.get_xaxis().set_visible(False)\n",
        "    ax.get_yaxis().set_visible(False)\n",
        "plt.show()"
      ],
      "metadata": {
        "colab": {
          "base_uri": "https://localhost:8080/",
          "height": 304
        },
        "id": "EdPXZQke62EC",
        "outputId": "66d7c742-78f9-410c-a224-4d72aa90ecfe"
      },
      "execution_count": null,
      "outputs": [
        {
          "output_type": "display_data",
          "data": {
            "text/plain": [
              "<Figure size 2000x400 with 20 Axes>"
            ],
            "image/png": "[encoded data removed]"
          },
          "metadata": {}
        }
      ]
    },
    {
      "cell_type": "code",
      "source": [
        "from keras import regularizers\n",
        "\n",
        "encoding_dim = 32\n",
        "\n",
        "input_img = keras.Input(shape=(784,))\n",
        "# Add a Dense layer with a L1 activity regularizer\n",
        "encoded = layers.Dense(encoding_dim, activation='relu',\n",
        "                activity_regularizer=regularizers.l1(10e-5))(input_img)\n",
        "decoded = layers.Dense(784, activation='sigmoid')(encoded)\n",
        "\n",
        "autoencoder = keras.Model(input_img, decoded)"
      ],
      "metadata": {
        "id": "Op8Ga00M64ZI"
      },
      "execution_count": null,
      "outputs": []
    },
    {
      "cell_type": "code",
      "source": [
        "#Let's also create a separate encoder model:\n",
        "\n",
        "# This model maps an input to its encoded representation\n",
        "encoder = keras.Model(input_img, encoded)"
      ],
      "metadata": {
        "id": "HFYwFiuA7F0D"
      },
      "execution_count": null,
      "outputs": []
    },
    {
      "cell_type": "code",
      "source": [
        "# This is our encoded (32-dimensional) input\n",
        "encoded_input = keras.Input(shape=(encoding_dim,))\n",
        "# Retrieve the last layer of the autoencoder model\n",
        "decoder_layer = autoencoder.layers[-1]\n",
        "# Create the decoder model\n",
        "decoder = keras.Model(encoded_input, decoder_layer(encoded_input))"
      ],
      "metadata": {
        "id": "jPsNmnKU7GFF"
      },
      "execution_count": null,
      "outputs": []
    },
    {
      "cell_type": "code",
      "source": [
        "#Now let's train our autoencoder to reconstruct MNIST digits.\n",
        "\n",
        "#First, we'll configure our model to use a per-pixel binary crossentropy loss, and the Adam optimizer:\n",
        "\n",
        "autoencoder.compile(optimizer='adam', loss='binary_crossentropy')"
      ],
      "metadata": {
        "id": "ysVo7HlK7KKt"
      },
      "execution_count": null,
      "outputs": []
    },
    {
      "cell_type": "code",
      "source": [
        "#Let's prepare our input data. We're using MNIST digits, and we're discarding the labels (since we're only interested in encoding/decoding the input images).\n",
        "\n",
        "from keras.datasets import mnist\n",
        "import numpy as np\n",
        "(x_train, _), (x_test, _) = mnist.load_data()"
      ],
      "metadata": {
        "id": "S6K_xkUB7Ov3"
      },
      "execution_count": null,
      "outputs": []
    },
    {
      "cell_type": "code",
      "source": [
        "# We will normalize all values between 0 and 1 and we will flatten the 28x28 images into vectors of size 784.\n",
        "\n",
        "x_train = x_train.astype('float32') / 255.\n",
        "x_test = x_test.astype('float32') / 255.\n",
        "x_train = x_train.reshape((len(x_train), np.prod(x_train.shape[1:])))\n",
        "x_test = x_test.reshape((len(x_test), np.prod(x_test.shape[1:])))\n",
        "print(x_train.shape)\n",
        "print(x_test.shape)"
      ],
      "metadata": {
        "colab": {
          "base_uri": "https://localhost:8080/"
        },
        "id": "Y-N_JoQ57Rl8",
        "outputId": "b93d118e-052c-4c6c-8574-37f20228a5fe"
      },
      "execution_count": null,
      "outputs": [
        {
          "output_type": "stream",
          "name": "stdout",
          "text": [
            "(60000, 784)\n",
            "(10000, 784)\n"
          ]
        }
      ]
    },
    {
      "cell_type": "code",
      "source": [
        "# Now let's train our autoencoder for 50 epochs:\n",
        "\n",
        "autoencoder.fit(x_train, x_train,\n",
        "                epochs=50,\n",
        "                batch_size=256,\n",
        "                shuffle=True,\n",
        "                validation_data=(x_test, x_test))"
      ],
      "metadata": {
        "colab": {
          "base_uri": "https://localhost:8080/"
        },
        "id": "dcWdezFZ7TbD",
        "outputId": "2b4fb6ac-f7a8-40d6-86f6-850e36e99c39"
      },
      "execution_count": null,
      "outputs": [
        {
          "output_type": "stream",
          "name": "stdout",
          "text": [
            "Epoch 1/50\n",
            "235/235 [==============================] - 5s 18ms/step - loss: 0.2850 - val_loss: 0.1966\n",
            "Epoch 2/50\n",
            "235/235 [==============================] - 3s 12ms/step - loss: 0.1785 - val_loss: 0.1616\n",
            "Epoch 3/50\n",
            "235/235 [==============================] - 3s 12ms/step - loss: 0.1523 - val_loss: 0.1421\n",
            "Epoch 4/50\n",
            "235/235 [==============================] - 4s 17ms/step - loss: 0.1373 - val_loss: 0.1308\n",
            "Epoch 5/50\n",
            "235/235 [==============================] - 4s 16ms/step - loss: 0.1285 - val_loss: 0.1237\n",
            "Epoch 6/50\n",
            "235/235 [==============================] - 3s 11ms/step - loss: 0.1223 - val_loss: 0.1183\n",
            "Epoch 7/50\n",
            "235/235 [==============================] - 3s 12ms/step - loss: 0.1174 - val_loss: 0.1140\n",
            "Epoch 8/50\n",
            "235/235 [==============================] - 4s 15ms/step - loss: 0.1136 - val_loss: 0.1108\n",
            "Epoch 9/50\n",
            "235/235 [==============================] - 3s 12ms/step - loss: 0.1109 - val_loss: 0.1086\n",
            "Epoch 10/50\n",
            "235/235 [==============================] - 3s 13ms/step - loss: 0.1091 - val_loss: 0.1071\n",
            "Epoch 11/50\n",
            "235/235 [==============================] - 2s 10ms/step - loss: 0.1078 - val_loss: 0.1060\n",
            "Epoch 12/50\n",
            "235/235 [==============================] - 3s 11ms/step - loss: 0.1069 - val_loss: 0.1052\n",
            "Epoch 13/50\n",
            "235/235 [==============================] - 4s 16ms/step - loss: 0.1061 - val_loss: 0.1045\n",
            "Epoch 14/50\n",
            "235/235 [==============================] - 4s 15ms/step - loss: 0.1055 - val_loss: 0.1039\n",
            "Epoch 15/50\n",
            "235/235 [==============================] - 4s 17ms/step - loss: 0.1050 - val_loss: 0.1035\n",
            "Epoch 16/50\n",
            "235/235 [==============================] - 2s 10ms/step - loss: 0.1045 - val_loss: 0.1031\n",
            "Epoch 17/50\n",
            "235/235 [==============================] - 2s 10ms/step - loss: 0.1041 - val_loss: 0.1027\n",
            "Epoch 18/50\n",
            "235/235 [==============================] - 3s 11ms/step - loss: 0.1037 - val_loss: 0.1023\n",
            "Epoch 19/50\n",
            "235/235 [==============================] - 4s 19ms/step - loss: 0.1034 - val_loss: 0.1021\n",
            "Epoch 20/50\n",
            "235/235 [==============================] - 3s 11ms/step - loss: 0.1031 - val_loss: 0.1017\n",
            "Epoch 21/50\n",
            "235/235 [==============================] - 2s 9ms/step - loss: 0.1028 - val_loss: 0.1015\n",
            "Epoch 22/50\n",
            "235/235 [==============================] - 3s 14ms/step - loss: 0.1026 - val_loss: 0.1013\n",
            "Epoch 23/50\n",
            "235/235 [==============================] - 5s 22ms/step - loss: 0.1023 - val_loss: 0.1010\n",
            "Epoch 24/50\n",
            "235/235 [==============================] - 4s 16ms/step - loss: 0.1021 - val_loss: 0.1009\n",
            "Epoch 25/50\n",
            "235/235 [==============================] - 2s 10ms/step - loss: 0.1019 - val_loss: 0.1005\n",
            "Epoch 26/50\n",
            "235/235 [==============================] - 2s 10ms/step - loss: 0.1017 - val_loss: 0.1005\n",
            "Epoch 27/50\n",
            "235/235 [==============================] - 2s 10ms/step - loss: 0.1015 - val_loss: 0.1002\n",
            "Epoch 28/50\n",
            "235/235 [==============================] - 4s 15ms/step - loss: 0.1013 - val_loss: 0.1001\n",
            "Epoch 29/50\n",
            "235/235 [==============================] - 3s 11ms/step - loss: 0.1011 - val_loss: 0.0999\n",
            "Epoch 30/50\n",
            "235/235 [==============================] - 2s 10ms/step - loss: 0.1010 - val_loss: 0.0997\n",
            "Epoch 31/50\n",
            "235/235 [==============================] - 2s 10ms/step - loss: 0.1008 - val_loss: 0.0996\n",
            "Epoch 32/50\n",
            "235/235 [==============================] - 2s 10ms/step - loss: 0.1007 - val_loss: 0.0994\n",
            "Epoch 33/50\n",
            "235/235 [==============================] - 3s 14ms/step - loss: 0.1005 - val_loss: 0.0993\n",
            "Epoch 34/50\n",
            "235/235 [==============================] - 3s 12ms/step - loss: 0.1004 - val_loss: 0.0992\n",
            "Epoch 35/50\n",
            "235/235 [==============================] - 2s 10ms/step - loss: 0.1003 - val_loss: 0.0991\n",
            "Epoch 36/50\n",
            "235/235 [==============================] - 2s 10ms/step - loss: 0.1002 - val_loss: 0.0990\n",
            "Epoch 37/50\n",
            "235/235 [==============================] - 2s 10ms/step - loss: 0.1001 - val_loss: 0.0988\n",
            "Epoch 38/50\n",
            "235/235 [==============================] - 3s 12ms/step - loss: 0.0999 - val_loss: 0.0988\n",
            "Epoch 39/50\n",
            "235/235 [==============================] - 3s 14ms/step - loss: 0.0998 - val_loss: 0.0986\n",
            "Epoch 40/50\n",
            "235/235 [==============================] - 2s 10ms/step - loss: 0.0997 - val_loss: 0.0986\n",
            "Epoch 41/50\n",
            "235/235 [==============================] - 2s 10ms/step - loss: 0.0996 - val_loss: 0.0985\n",
            "Epoch 42/50\n",
            "235/235 [==============================] - 2s 10ms/step - loss: 0.0996 - val_loss: 0.0984\n",
            "Epoch 43/50\n",
            "235/235 [==============================] - 3s 11ms/step - loss: 0.0995 - val_loss: 0.0983\n",
            "Epoch 44/50\n",
            "235/235 [==============================] - 4s 16ms/step - loss: 0.0994 - val_loss: 0.0983\n",
            "Epoch 45/50\n",
            "235/235 [==============================] - 2s 10ms/step - loss: 0.0993 - val_loss: 0.0981\n",
            "Epoch 46/50\n",
            "235/235 [==============================] - 3s 11ms/step - loss: 0.0992 - val_loss: 0.0981\n",
            "Epoch 47/50\n",
            "235/235 [==============================] - 2s 10ms/step - loss: 0.0991 - val_loss: 0.0980\n",
            "Epoch 48/50\n",
            "235/235 [==============================] - 2s 10ms/step - loss: 0.0991 - val_loss: 0.0979\n",
            "Epoch 49/50\n",
            "235/235 [==============================] - 4s 15ms/step - loss: 0.0990 - val_loss: 0.0978\n",
            "Epoch 50/50\n",
            "235/235 [==============================] - 2s 9ms/step - loss: 0.0989 - val_loss: 0.0978\n"
          ]
        },
        {
          "output_type": "execute_result",
          "data": {
            "text/plain": [
              "<keras.src.callbacks.History at 0x7e3f35da2f50>"
            ]
          },
          "metadata": {},
          "execution_count": 27
        }
      ]
    },
    {
      "cell_type": "code",
      "source": [
        "# Encode and decode some digits\n",
        "# Note that we take them from the *test* set\n",
        "encoded_imgs = encoder.predict(x_test)\n",
        "decoded_imgs = decoder.predict(encoded_imgs)"
      ],
      "metadata": {
        "colab": {
          "base_uri": "https://localhost:8080/"
        },
        "id": "c__VtPJU7brx",
        "outputId": "0158764b-2c72-413e-ffaf-93d460efa1e9"
      },
      "execution_count": null,
      "outputs": [
        {
          "output_type": "stream",
          "name": "stdout",
          "text": [
            "313/313 [==============================] - 1s 2ms/step\n",
            "313/313 [==============================] - 1s 2ms/step\n"
          ]
        }
      ]
    },
    {
      "cell_type": "code",
      "source": [
        "# Use Matplotlib\n",
        "import matplotlib.pyplot as plt\n",
        "\n",
        "n = 10  # How many digits we will display\n",
        "plt.figure(figsize=(20, 4))\n",
        "for i in range(n):\n",
        "    # Display original\n",
        "    ax = plt.subplot(2, n, i + 1)\n",
        "    plt.imshow(x_test[i].reshape(28, 28))\n",
        "    plt.gray()\n",
        "    ax.get_xaxis().set_visible(False)\n",
        "    ax.get_yaxis().set_visible(False)\n",
        "\n",
        "    # Display reconstruction\n",
        "    ax = plt.subplot(2, n, i + 1 + n)\n",
        "    plt.imshow(decoded_imgs[i].reshape(28, 28))\n",
        "    plt.gray()\n",
        "    ax.get_xaxis().set_visible(False)\n",
        "    ax.get_yaxis().set_visible(False)\n",
        "plt.show()"
      ],
      "metadata": {
        "colab": {
          "base_uri": "https://localhost:8080/",
          "height": 304
        },
        "id": "JOLdh4Ru7fHx",
        "outputId": "44569805-640c-4b5c-b08d-6667559813cf"
      },
      "execution_count": null,
      "outputs": [
        {
          "output_type": "display_data",
          "data": {
            "text/plain": [
              "<Figure size 2000x400 with 20 Axes>"
            ],
            "image/png": "[encoded data removed]"
          },
          "metadata": {}
        }
      ]
    },
    {
      "cell_type": "code",
      "source": [
        "input_img = keras.Input(shape=(784,))\n",
        "encoded = layers.Dense(128, activation='relu')(input_img)\n",
        "encoded = layers.Dense(64, activation='relu')(encoded)\n",
        "encoded = layers.Dense(32, activation='relu')(encoded)\n",
        "\n",
        "decoded = layers.Dense(64, activation='relu')(encoded)\n",
        "decoded = layers.Dense(128, activation='relu')(decoded)\n",
        "decoded = layers.Dense(784, activation='sigmoid')(decoded)"
      ],
      "metadata": {
        "id": "bsLuqXy57h03"
      },
      "execution_count": null,
      "outputs": []
    },
    {
      "cell_type": "code",
      "source": [
        "autoencoder = keras.Model(input_img, decoded)\n",
        "autoencoder.compile(optimizer='adam', loss='binary_crossentropy')\n",
        "\n",
        "autoencoder.fit(x_train, x_train,\n",
        "                epochs=100,\n",
        "                batch_size=256,\n",
        "                shuffle=True,\n",
        "                validation_data=(x_test, x_test))"
      ],
      "metadata": {
        "colab": {
          "base_uri": "https://localhost:8080/"
        },
        "id": "G6ib5clo7llP",
        "outputId": "e03687a1-cf0c-4f75-fe14-61f5457de4f3"
      },
      "execution_count": null,
      "outputs": [
        {
          "output_type": "stream",
          "name": "stdout",
          "text": [
            "Epoch 1/100\n",
            "235/235 [==============================] - 5s 16ms/step - loss: 0.2413 - val_loss: 0.1635\n",
            "Epoch 2/100\n",
            "235/235 [==============================] - 4s 19ms/step - loss: 0.1451 - val_loss: 0.1308\n",
            "Epoch 3/100\n",
            "235/235 [==============================] - 4s 18ms/step - loss: 0.1263 - val_loss: 0.1200\n",
            "Epoch 4/100\n",
            "235/235 [==============================] - 4s 15ms/step - loss: 0.1185 - val_loss: 0.1140\n",
            "Epoch 5/100\n",
            "235/235 [==============================] - 4s 15ms/step - loss: 0.1132 - val_loss: 0.1092\n",
            "Epoch 6/100\n",
            "235/235 [==============================] - 5s 21ms/step - loss: 0.1087 - val_loss: 0.1057\n",
            "Epoch 7/100\n",
            "235/235 [==============================] - 4s 15ms/step - loss: 0.1055 - val_loss: 0.1038\n",
            "Epoch 8/100\n",
            "235/235 [==============================] - 4s 15ms/step - loss: 0.1033 - val_loss: 0.1014\n",
            "Epoch 9/100\n",
            "235/235 [==============================] - 5s 20ms/step - loss: 0.1013 - val_loss: 0.0990\n",
            "Epoch 10/100\n",
            "235/235 [==============================] - 4s 16ms/step - loss: 0.0995 - val_loss: 0.0977\n",
            "Epoch 11/100\n",
            "235/235 [==============================] - 4s 16ms/step - loss: 0.0981 - val_loss: 0.0965\n",
            "Epoch 12/100\n",
            "235/235 [==============================] - 4s 17ms/step - loss: 0.0969 - val_loss: 0.0955\n",
            "Epoch 13/100\n",
            "235/235 [==============================] - 5s 19ms/step - loss: 0.0958 - val_loss: 0.0944\n",
            "Epoch 14/100\n",
            "235/235 [==============================] - 4s 17ms/step - loss: 0.0948 - val_loss: 0.0932\n",
            "Epoch 15/100\n",
            "235/235 [==============================] - 4s 15ms/step - loss: 0.0939 - val_loss: 0.0928\n",
            "Epoch 16/100\n",
            "235/235 [==============================] - 5s 21ms/step - loss: 0.0930 - val_loss: 0.0918\n",
            "Epoch 17/100\n",
            "235/235 [==============================] - 4s 15ms/step - loss: 0.0922 - val_loss: 0.0914\n",
            "Epoch 18/100\n",
            "235/235 [==============================] - 4s 16ms/step - loss: 0.0916 - val_loss: 0.0903\n",
            "Epoch 19/100\n",
            "235/235 [==============================] - 5s 21ms/step - loss: 0.0910 - val_loss: 0.0900\n",
            "Epoch 20/100\n",
            "235/235 [==============================] - 4s 15ms/step - loss: 0.0905 - val_loss: 0.0896\n",
            "Epoch 21/100\n",
            "235/235 [==============================] - 4s 15ms/step - loss: 0.0900 - val_loss: 0.0889\n",
            "Epoch 22/100\n",
            "235/235 [==============================] - 4s 18ms/step - loss: 0.0895 - val_loss: 0.0886\n",
            "Epoch 23/100\n",
            "235/235 [==============================] - 5s 21ms/step - loss: 0.0891 - val_loss: 0.0883\n",
            "Epoch 24/100\n",
            "235/235 [==============================] - 5s 20ms/step - loss: 0.0888 - val_loss: 0.0881\n",
            "Epoch 25/100\n",
            "235/235 [==============================] - 6s 26ms/step - loss: 0.0884 - val_loss: 0.0875\n",
            "Epoch 26/100\n",
            "235/235 [==============================] - 5s 22ms/step - loss: 0.0880 - val_loss: 0.0874\n",
            "Epoch 27/100\n",
            "235/235 [==============================] - 5s 21ms/step - loss: 0.0877 - val_loss: 0.0869\n",
            "Epoch 28/100\n",
            "235/235 [==============================] - 6s 25ms/step - loss: 0.0874 - val_loss: 0.0866\n",
            "Epoch 29/100\n",
            "235/235 [==============================] - 5s 21ms/step - loss: 0.0871 - val_loss: 0.0864\n",
            "Epoch 30/100\n",
            "235/235 [==============================] - 6s 28ms/step - loss: 0.0868 - val_loss: 0.0860\n",
            "Epoch 31/100\n",
            "235/235 [==============================] - 8s 35ms/step - loss: 0.0865 - val_loss: 0.0857\n",
            "Epoch 32/100\n",
            "235/235 [==============================] - 10s 41ms/step - loss: 0.0863 - val_loss: 0.0858\n",
            "Epoch 33/100\n",
            "235/235 [==============================] - 7s 28ms/step - loss: 0.0860 - val_loss: 0.0856\n",
            "Epoch 34/100\n",
            "235/235 [==============================] - 6s 24ms/step - loss: 0.0858 - val_loss: 0.0853\n",
            "Epoch 35/100\n",
            "235/235 [==============================] - 6s 24ms/step - loss: 0.0856 - val_loss: 0.0853\n",
            "Epoch 36/100\n",
            "235/235 [==============================] - 5s 21ms/step - loss: 0.0855 - val_loss: 0.0851\n",
            "Epoch 37/100\n",
            "235/235 [==============================] - 6s 24ms/step - loss: 0.0852 - val_loss: 0.0847\n",
            "Epoch 38/100\n",
            "235/235 [==============================] - 5s 22ms/step - loss: 0.0851 - val_loss: 0.0843\n",
            "Epoch 39/100\n",
            "235/235 [==============================] - 4s 19ms/step - loss: 0.0849 - val_loss: 0.0841\n",
            "Epoch 40/100\n",
            "235/235 [==============================] - 6s 24ms/step - loss: 0.0848 - val_loss: 0.0842\n",
            "Epoch 41/100\n",
            "235/235 [==============================] - 4s 17ms/step - loss: 0.0846 - val_loss: 0.0844\n",
            "Epoch 42/100\n",
            "235/235 [==============================] - 4s 17ms/step - loss: 0.0845 - val_loss: 0.0841\n",
            "Epoch 43/100\n",
            "235/235 [==============================] - 6s 25ms/step - loss: 0.0844 - val_loss: 0.0840\n",
            "Epoch 44/100\n",
            "235/235 [==============================] - 6s 25ms/step - loss: 0.0843 - val_loss: 0.0838\n",
            "Epoch 45/100\n",
            "235/235 [==============================] - 5s 20ms/step - loss: 0.0841 - val_loss: 0.0838\n",
            "Epoch 46/100\n",
            "235/235 [==============================] - 5s 23ms/step - loss: 0.0840 - val_loss: 0.0834\n",
            "Epoch 47/100\n",
            "235/235 [==============================] - 4s 17ms/step - loss: 0.0839 - val_loss: 0.0834\n",
            "Epoch 48/100\n",
            "235/235 [==============================] - 4s 19ms/step - loss: 0.0838 - val_loss: 0.0833\n",
            "Epoch 49/100\n",
            "235/235 [==============================] - 5s 22ms/step - loss: 0.0836 - val_loss: 0.0832\n",
            "Epoch 50/100\n",
            "235/235 [==============================] - 4s 17ms/step - loss: 0.0835 - val_loss: 0.0832\n",
            "Epoch 51/100\n",
            "235/235 [==============================] - 4s 19ms/step - loss: 0.0834 - val_loss: 0.0830\n",
            "Epoch 52/100\n",
            "235/235 [==============================] - 5s 22ms/step - loss: 0.0833 - val_loss: 0.0828\n",
            "Epoch 53/100\n",
            "235/235 [==============================] - 4s 17ms/step - loss: 0.0831 - val_loss: 0.0826\n",
            "Epoch 54/100\n",
            "235/235 [==============================] - 4s 19ms/step - loss: 0.0830 - val_loss: 0.0825\n",
            "Epoch 55/100\n",
            "235/235 [==============================] - 5s 22ms/step - loss: 0.0829 - val_loss: 0.0826\n",
            "Epoch 56/100\n",
            "235/235 [==============================] - 4s 17ms/step - loss: 0.0829 - val_loss: 0.0826\n",
            "Epoch 57/100\n",
            "235/235 [==============================] - 4s 19ms/step - loss: 0.0827 - val_loss: 0.0824\n",
            "Epoch 58/100\n",
            "235/235 [==============================] - 5s 21ms/step - loss: 0.0826 - val_loss: 0.0826\n",
            "Epoch 59/100\n",
            "235/235 [==============================] - 4s 17ms/step - loss: 0.0826 - val_loss: 0.0821\n",
            "Epoch 60/100\n",
            "235/235 [==============================] - 4s 18ms/step - loss: 0.0825 - val_loss: 0.0822\n",
            "Epoch 61/100\n",
            "235/235 [==============================] - 5s 22ms/step - loss: 0.0824 - val_loss: 0.0822\n",
            "Epoch 62/100\n",
            "235/235 [==============================] - 4s 17ms/step - loss: 0.0823 - val_loss: 0.0821\n",
            "Epoch 63/100\n",
            "235/235 [==============================] - 4s 16ms/step - loss: 0.0822 - val_loss: 0.0820\n",
            "Epoch 64/100\n",
            "235/235 [==============================] - 5s 23ms/step - loss: 0.0822 - val_loss: 0.0820\n",
            "Epoch 65/100\n",
            "235/235 [==============================] - 4s 18ms/step - loss: 0.0821 - val_loss: 0.0817\n",
            "Epoch 66/100\n",
            "235/235 [==============================] - 4s 18ms/step - loss: 0.0820 - val_loss: 0.0820\n",
            "Epoch 67/100\n",
            "235/235 [==============================] - 6s 24ms/step - loss: 0.0820 - val_loss: 0.0816\n",
            "Epoch 68/100\n",
            "235/235 [==============================] - 4s 18ms/step - loss: 0.0819 - val_loss: 0.0817\n",
            "Epoch 69/100\n",
            "235/235 [==============================] - 5s 20ms/step - loss: 0.0819 - val_loss: 0.0818\n",
            "Epoch 70/100\n",
            "235/235 [==============================] - 5s 23ms/step - loss: 0.0819 - val_loss: 0.0816\n",
            "Epoch 71/100\n",
            "235/235 [==============================] - 4s 18ms/step - loss: 0.0818 - val_loss: 0.0817\n",
            "Epoch 72/100\n",
            "235/235 [==============================] - 5s 19ms/step - loss: 0.0817 - val_loss: 0.0815\n",
            "Epoch 73/100\n",
            "235/235 [==============================] - 5s 21ms/step - loss: 0.0816 - val_loss: 0.0818\n",
            "Epoch 74/100\n",
            "235/235 [==============================] - 4s 17ms/step - loss: 0.0816 - val_loss: 0.0812\n",
            "Epoch 75/100\n",
            "235/235 [==============================] - 4s 18ms/step - loss: 0.0816 - val_loss: 0.0813\n",
            "Epoch 76/100\n",
            "235/235 [==============================] - 5s 22ms/step - loss: 0.0815 - val_loss: 0.0814\n",
            "Epoch 77/100\n",
            "235/235 [==============================] - 4s 17ms/step - loss: 0.0815 - val_loss: 0.0812\n",
            "Epoch 78/100\n",
            "235/235 [==============================] - 4s 17ms/step - loss: 0.0814 - val_loss: 0.0811\n",
            "Epoch 79/100\n",
            "235/235 [==============================] - 5s 22ms/step - loss: 0.0814 - val_loss: 0.0811\n",
            "Epoch 80/100\n",
            "235/235 [==============================] - 4s 18ms/step - loss: 0.0814 - val_loss: 0.0812\n",
            "Epoch 81/100\n",
            "235/235 [==============================] - 4s 18ms/step - loss: 0.0813 - val_loss: 0.0812\n",
            "Epoch 82/100\n",
            "235/235 [==============================] - 6s 25ms/step - loss: 0.0813 - val_loss: 0.0813\n",
            "Epoch 83/100\n",
            "235/235 [==============================] - 5s 19ms/step - loss: 0.0812 - val_loss: 0.0811\n",
            "Epoch 84/100\n",
            "235/235 [==============================] - 5s 19ms/step - loss: 0.0812 - val_loss: 0.0810\n",
            "Epoch 85/100\n",
            "235/235 [==============================] - 5s 22ms/step - loss: 0.0812 - val_loss: 0.0810\n",
            "Epoch 86/100\n",
            "235/235 [==============================] - 4s 17ms/step - loss: 0.0811 - val_loss: 0.0809\n",
            "Epoch 87/100\n",
            "235/235 [==============================] - 4s 18ms/step - loss: 0.0811 - val_loss: 0.0809\n",
            "Epoch 88/100\n",
            "235/235 [==============================] - 5s 22ms/step - loss: 0.0811 - val_loss: 0.0810\n",
            "Epoch 89/100\n",
            "235/235 [==============================] - 4s 18ms/step - loss: 0.0810 - val_loss: 0.0810\n",
            "Epoch 90/100\n",
            "235/235 [==============================] - 4s 17ms/step - loss: 0.0810 - val_loss: 0.0808\n",
            "Epoch 91/100\n",
            "235/235 [==============================] - 6s 26ms/step - loss: 0.0809 - val_loss: 0.0807\n",
            "Epoch 92/100\n",
            "235/235 [==============================] - 4s 18ms/step - loss: 0.0809 - val_loss: 0.0807\n",
            "Epoch 93/100\n",
            "235/235 [==============================] - 4s 17ms/step - loss: 0.0809 - val_loss: 0.0810\n",
            "Epoch 94/100\n",
            "235/235 [==============================] - 5s 22ms/step - loss: 0.0809 - val_loss: 0.0809\n",
            "Epoch 95/100\n",
            "235/235 [==============================] - 4s 17ms/step - loss: 0.0808 - val_loss: 0.0808\n",
            "Epoch 96/100\n",
            "235/235 [==============================] - 4s 17ms/step - loss: 0.0808 - val_loss: 0.0807\n",
            "Epoch 97/100\n",
            "235/235 [==============================] - 6s 24ms/step - loss: 0.0807 - val_loss: 0.0806\n",
            "Epoch 98/100\n",
            "235/235 [==============================] - 4s 17ms/step - loss: 0.0807 - val_loss: 0.0805\n",
            "Epoch 99/100\n",
            "235/235 [==============================] - 4s 16ms/step - loss: 0.0807 - val_loss: 0.0807\n",
            "Epoch 100/100\n",
            "235/235 [==============================] - 5s 22ms/step - loss: 0.0807 - val_loss: 0.0808\n"
          ]
        },
        {
          "output_type": "execute_result",
          "data": {
            "text/plain": [
              "<keras.src.callbacks.History at 0x7e3f2fb62350>"
            ]
          },
          "metadata": {},
          "execution_count": 31
        }
      ]
    },
    {
      "cell_type": "code",
      "source": [
        "# Encode and decode some digits\n",
        "# Note that we take them from the *test* set\n",
        "encoded_imgs = encoder.predict(x_test)\n",
        "decoded_imgs = decoder.predict(encoded_imgs)"
      ],
      "metadata": {
        "colab": {
          "base_uri": "https://localhost:8080/"
        },
        "id": "cW3Qjv_l7ngK",
        "outputId": "10a8ef57-0f50-46f0-d7f8-a0a29ef774f2"
      },
      "execution_count": null,
      "outputs": [
        {
          "output_type": "stream",
          "name": "stdout",
          "text": [
            "313/313 [==============================] - 0s 1ms/step\n",
            "313/313 [==============================] - 0s 1ms/step\n"
          ]
        }
      ]
    },
    {
      "cell_type": "code",
      "source": [
        "# Use Matplotlib\n",
        "import matplotlib.pyplot as plt\n",
        "\n",
        "n = 10  # How many digits we will display\n",
        "plt.figure(figsize=(20, 4))\n",
        "for i in range(n):\n",
        "    # Display original\n",
        "    ax = plt.subplot(2, n, i + 1)\n",
        "    plt.imshow(x_test[i].reshape(28, 28))\n",
        "    plt.gray()\n",
        "    ax.get_xaxis().set_visible(False)\n",
        "    ax.get_yaxis().set_visible(False)\n",
        "\n",
        "    # Display reconstruction\n",
        "    ax = plt.subplot(2, n, i + 1 + n)\n",
        "    plt.imshow(decoded_imgs[i].reshape(28, 28))\n",
        "    plt.gray()\n",
        "    ax.get_xaxis().set_visible(False)\n",
        "    ax.get_yaxis().set_visible(False)\n",
        "plt.show()"
      ],
      "metadata": {
        "colab": {
          "base_uri": "https://localhost:8080/",
          "height": 304
        },
        "id": "bN9RQ9CW7qO6",
        "outputId": "b65f57e6-a1c4-4b29-bcc8-290a052d2364"
      },
      "execution_count": null,
      "outputs": [
        {
          "output_type": "display_data",
          "data": {
            "text/plain": [
              "<Figure size 2000x400 with 20 Axes>"
            ],
            "image/png": "[encoded data removed]"
          },
          "metadata": {}
        }
      ]
    },
    {
      "cell_type": "code",
      "source": [],
      "metadata": {
        "id": "laT7uS7Y7s7p"
      },
      "execution_count": null,
      "outputs": []
    }
  ]
}