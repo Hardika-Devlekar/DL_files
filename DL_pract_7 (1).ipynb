{
  "nbformat": 4,
  "nbformat_minor": 0,
  "metadata": {
    "colab": {
      "provenance": []
    },
    "kernelspec": {
      "name": "python3",
      "display_name": "Python 3"
    },
    "language_info": {
      "name": "python"
    }
  },
  "cells": [
    {
      "cell_type": "code",
      "execution_count": null,
      "metadata": {
        "id": "Va7E4ub11hcm"
      },
      "outputs": [],
      "source": [
        "import numpy as np\n",
        "\n",
        "import tensorflow_datasets as tfds\n",
        "import tensorflow as tf\n",
        "\n",
        "tfds.disable_progress_bar()"
      ]
    },
    {
      "cell_type": "code",
      "source": [
        "import matplotlib.pyplot as plt\n",
        "\n",
        "\n",
        "def plot_graphs(history, metric):\n",
        "  plt.plot(history.history[metric])\n",
        "  plt.plot(history.history['val_'+metric], '')\n",
        "  plt.xlabel(\"Epochs\")\n",
        "  plt.ylabel(metric)\n",
        "  plt.legend([metric, 'val_'+metric])"
      ],
      "metadata": {
        "id": "aBlm_K8M1q7I"
      },
      "execution_count": null,
      "outputs": []
    },
    {
      "cell_type": "code",
      "source": [
        "dataset, info = tfds.load('imdb_reviews', with_info=True,\n",
        "                          as_supervised=True)\n",
        "train_dataset, test_dataset = dataset['train'], dataset['test']\n",
        "\n",
        "train_dataset.element_spec"
      ],
      "metadata": {
        "colab": {
          "base_uri": "https://localhost:8080/"
        },
        "id": "6P4f1yQ815Lo",
        "outputId": "0d196f07-e189-4eb1-eb4e-dec558de69e9"
      },
      "execution_count": null,
      "outputs": [
        {
          "output_type": "stream",
          "name": "stdout",
          "text": [
            "Downloading and preparing dataset 80.23 MiB (download: 80.23 MiB, generated: Unknown size, total: 80.23 MiB) to /root/tensorflow_datasets/imdb_reviews/plain_text/1.0.0...\n",
            "Dataset imdb_reviews downloaded and prepared to /root/tensorflow_datasets/imdb_reviews/plain_text/1.0.0. Subsequent calls will reuse this data.\n"
          ]
        },
        {
          "output_type": "execute_result",
          "data": {
            "text/plain": [
              "(TensorSpec(shape=(), dtype=tf.string, name=None),\n",
              " TensorSpec(shape=(), dtype=tf.int64, name=None))"
            ]
          },
          "metadata": {},
          "execution_count": 3
        }
      ]
    },
    {
      "cell_type": "code",
      "source": [
        "for example, label in train_dataset.take(5):\n",
        "  print('text: ', example.numpy())\n",
        "  print('label: ', label.numpy())"
      ],
      "metadata": {
        "colab": {
          "base_uri": "https://localhost:8080/"
        },
        "id": "RHuLag2S2Bdm",
        "outputId": "d9f1cf2d-5f4b-4ac9-e6a8-5bd2e7de4d05"
      },
      "execution_count": null,
      "outputs": [
        {
          "output_type": "stream",
          "name": "stdout",
          "text": [
            "text:  b\"This was an absolutely terrible movie. Don't be lured in by Christopher Walken or Michael Ironside. Both are great actors, but this must simply be their worst role in history. Even their great acting could not redeem this movie's ridiculous storyline. This movie is an early nineties US propaganda piece. The most pathetic scenes were those when the Columbian rebels were making their cases for revolutions. Maria Conchita Alonso appeared phony, and her pseudo-love affair with Walken was nothing but a pathetic emotional plug in a movie that was devoid of any real meaning. I am disappointed that there are movies like this, ruining actor's like Christopher Walken's good name. I could barely sit through it.\"\n",
            "label:  0\n",
            "text:  b'I have been known to fall asleep during films, but this is usually due to a combination of things including, really tired, being warm and comfortable on the sette and having just eaten a lot. However on this occasion I fell asleep because the film was rubbish. The plot development was constant. Constantly slow and boring. Things seemed to happen, but with no explanation of what was causing them or why. I admit, I may have missed part of the film, but i watched the majority of it and everything just seemed to happen of its own accord without any real concern for anything else. I cant recommend this film at all.'\n",
            "label:  0\n",
            "text:  b'Mann photographs the Alberta Rocky Mountains in a superb fashion, and Jimmy Stewart and Walter Brennan give enjoyable performances as they always seem to do. <br /><br />But come on Hollywood - a Mountie telling the people of Dawson City, Yukon to elect themselves a marshal (yes a marshal!) and to enforce the law themselves, then gunfighters battling it out on the streets for control of the town? <br /><br />Nothing even remotely resembling that happened on the Canadian side of the border during the Klondike gold rush. Mr. Mann and company appear to have mistaken Dawson City for Deadwood, the Canadian North for the American Wild West.<br /><br />Canadian viewers be prepared for a Reefer Madness type of enjoyable howl with this ludicrous plot, or, to shake your head in disgust.'\n",
            "label:  0\n",
            "text:  b'This is the kind of film for a snowy Sunday afternoon when the rest of the world can go ahead with its own business as you descend into a big arm-chair and mellow for a couple of hours. Wonderful performances from Cher and Nicolas Cage (as always) gently row the plot along. There are no rapids to cross, no dangerous waters, just a warm and witty paddle through New York life at its best. A family film in every sense and one that deserves the praise it received.'\n",
            "label:  1\n",
            "text:  b'As others have mentioned, all the women that go nude in this film are mostly absolutely gorgeous. The plot very ably shows the hypocrisy of the female libido. When men are around they want to be pursued, but when no \"men\" are around, they become the pursuers of a 14 year old boy. And the boy becomes a man really fast (we should all be so lucky at this age!). He then gets up the courage to pursue his true love.'\n",
            "label:  1\n"
          ]
        }
      ]
    },
    {
      "cell_type": "code",
      "source": [
        "BUFFER_SIZE = 10000\n",
        "BATCH_SIZE = 64"
      ],
      "metadata": {
        "id": "izeVYvdV2NvR"
      },
      "execution_count": null,
      "outputs": []
    },
    {
      "cell_type": "code",
      "source": [
        "train_dataset = train_dataset.shuffle(BUFFER_SIZE).batch(BATCH_SIZE).prefetch(tf.data.AUTOTUNE)\n",
        "test_dataset = test_dataset.batch(BATCH_SIZE).prefetch(tf.data.AUTOTUNE)"
      ],
      "metadata": {
        "id": "UlYZ3lx12SIw"
      },
      "execution_count": null,
      "outputs": []
    },
    {
      "cell_type": "code",
      "source": [
        "for example, label in train_dataset.take(1):\n",
        "  print('texts: ', example.numpy()[:3])\n",
        "  print()\n",
        "  print('labels: ', label.numpy()[:3])"
      ],
      "metadata": {
        "colab": {
          "base_uri": "https://localhost:8080/"
        },
        "id": "s37Z_1lT2V4j",
        "outputId": "17261b88-855e-42b3-ba1f-36772a32b41f"
      },
      "execution_count": null,
      "outputs": [
        {
          "output_type": "stream",
          "name": "stdout",
          "text": [
            "texts:  [b\"Please see also my comment on Die Nibelungen part 1: Siegfried.<br /><br />The second part of UFA studio's gargantuan production of the Nibelungen saga continues in the stylised, symphonic and emotionally detached manner of its predecessor. However, whereas part one was a passionless portrayal of individual acts of heroism, part two is a chaotic depiction of bloodletting on a grand scale.<br /><br />As in part one, director Fritz Lang maintains a continuous dynamic rhythm, with the pace of the action and the complexity of the shot composition rising and falling smoothly as the tone of each scene demands. These pictures should only be watched with the note-perfect Gottfried Huppertz score, which fortunately is on the Kino DVD. Now, with this focus on mass action, Lang is presented with greater challenges in staging. The action sequences in his earliest features were often badly constructed, but now he simply makes them part of that rhythmic flow, with the level of activity on the screen swelling up like an orchestra.<br /><br />But just as part one made us witness Siegfried's adventures matter-of-factly and without excitement, part two presents warfare as devastating tragedy. In both pictures, there is a deliberate lack of emotional connection with the characters. That's why Lang mostly keeps the camera outside of the action, never allowing us to feel as if we are there (and this is significant because involving the audience is normally a distinction of Lang's work). That's also why the performances are unnaturally theatrical, with the actors lurching around like constipated sleepwalkers.<br /><br />Nevertheless, Kriemhild's revenge does constantly deal with emotions, and is in fact profoundly humanist. The one moment of naturalism is when Atilla holds his baby son for the first time, and Lang actually emphasises the tenderness of this scene by building up to it with the wild, frantic ride of the huns. The point is that Lang never manipulates us into taking sides, and in that respect this version has more in common with the original saga than the Wagner opera. The climactic slaughter is the very antithesis of a rousing battle scene. Why then did Hitler and co. get so teary-eyed over it, a fact which has unfairly tarnished the reputation of these films? Because the unwavering racial ideology of the Nazis made them automatically view the Nibelungs as the good guys, even if they do kill babies and betray their own kin. For Hitler, their downfall would always be a nationalist tragedy, not a human one.<br /><br />But for us non-nazi viewers, what makes this picture enjoyable is its beautiful sense of pageantry and musical rhythm. When you see these fully-developed silent pictures of Lang's, it makes you realise how much he was wasted in Hollywood. Rather than saddling him with low-budget potboilers, they should have put him to work on a few of those sword-and-sandal epics, pictures that do not have to be believable and do not have to move us emotionally, where it's the poetic, operatic tonality that sweeps us along.\"\n",
            " b'Seeing as the world snooker championship final finished in a premature and disappointing manner with Ronnie O`Sullivan defeating Greame Dott by 18 frames to 8 BBC 2 found a gap in their schedule and so decided to broadcast A WALK ON THE MOON a movie I had absolutely no knowledge off<br /><br />I missed a few seconds of the title credits so had no idea Viggo Mortensen starred in it and thought possibly it might be a cheap TVM , certainly the opening with the mawkish Pearl and Marty taking their kids to a Summer camp has that sort of made for TV feel though the brightly lit ( Too brightly lit ) cinematography seemed to suggest this was a cinematic film and it wasn`t until the appearence of Viggo Mortensen as hippy guy Walker that I realised this was a cinema release , after all someone of Mortensen`s stature wouldn`t star in a TVM , I mean that`s like a legend like Robert DeNiro appearing in a straight to video film . Wait a minute , didn`t Bob .... ?<br /><br />Some people on this site have mentioned that Pearl and Marty are an unconvincing on-screen couple and I agree . I can understand why Pearl would be attracted to exciting hippy guy but have no idea why Walker would be attracted to plain house wife Pearl . The sixties was before my time but surely if you`ve got the choice between hippy chicks and bored house wives it`s not really a choice at all . Mind you a lot of people took LSD in those days so I guess that explains it<br /><br />I feel the major problem of A WALK ON THE MOON comes down to the fact it`s a romantic drama at heart ( Just like you`d expect in a TVM ) with several cloying coming of age scenes so why include a fairly explicit sex scene ? It jars with the rest of the movie and is possibly off putting to the menopuasal women who were 20 something in 1969 . I say possibly because the movie also seems to aim at a teeenage market with the coming of age scenes and those teenagers will probably be bored with the historical and social context of man walking on the moon and Woodstock . In other words A WALK ON THE MOON tries to attract many types of audience but will probably appeal to none of them'\n",
            " b'This movie was a classic. I would have to say that this movie caught the best of a working man who learns from his mistakes. if we could all get along and learn the way everyone in this movie did. It had an important part of showing how family is an important part of life, and how pride can cause you to lose something important in life if we can not find a \"BIG THROAT\" and swallow are pride.']\n",
            "\n",
            "labels:  [1 0 1]\n"
          ]
        }
      ]
    },
    {
      "cell_type": "code",
      "source": [
        "VOCAB_SIZE = 1000\n",
        "encoder = tf.keras.layers.TextVectorization(max_tokens=VOCAB_SIZE)\n",
        "encoder.adapt(train_dataset.map(lambda text, label: text))"
      ],
      "metadata": {
        "id": "DGCBQVqC2YLL"
      },
      "execution_count": null,
      "outputs": []
    },
    {
      "cell_type": "code",
      "source": [
        "vocab = np.array(encoder.get_vocabulary())\n",
        "vocab[:20]"
      ],
      "metadata": {
        "colab": {
          "base_uri": "https://localhost:8080/"
        },
        "id": "qed5S6Q_41lk",
        "outputId": "afe6282c-f0ff-4ca8-fdf2-2a71fc254dec"
      },
      "execution_count": null,
      "outputs": [
        {
          "output_type": "execute_result",
          "data": {
            "text/plain": [
              "array(['', '[UNK]', 'the', 'and', 'a', 'of', 'to', 'is', 'in', 'it', 'i',\n",
              "       'this', 'that', 'br', 'was', 'as', 'for', 'with', 'movie', 'but'],\n",
              "      dtype='<U14')"
            ]
          },
          "metadata": {},
          "execution_count": 9
        }
      ]
    },
    {
      "cell_type": "code",
      "source": [
        "encoded_example = encoder(example)[:3].numpy()\n",
        "encoded_example"
      ],
      "metadata": {
        "colab": {
          "base_uri": "https://localhost:8080/"
        },
        "id": "MLQ9sTLH43uq",
        "outputId": "a4d2d6b5-eaec-4ab2-f7e7-5fcd1941efc4"
      },
      "execution_count": null,
      "outputs": [
        {
          "output_type": "execute_result",
          "data": {
            "text/plain": [
              "array([[583,  68,  79, ...,   0,   0,   0],\n",
              "       [308,  15,   2, ...,   0,   0,   0],\n",
              "       [ 11,  18,  14, ...,   0,   0,   0]])"
            ]
          },
          "metadata": {},
          "execution_count": 10
        }
      ]
    },
    {
      "cell_type": "code",
      "source": [
        "for n in range(3):\n",
        "  print(\"Original: \", example[n].numpy())\n",
        "  print(\"Round-trip: \", \" \".join(vocab[encoded_example[n]]))\n",
        "  print()"
      ],
      "metadata": {
        "colab": {
          "base_uri": "https://localhost:8080/"
        },
        "id": "JalqnpPj48Pu",
        "outputId": "b3698388-bfbe-4c8a-a6c4-78cb258b2dd8"
      },
      "execution_count": null,
      "outputs": [
        {
          "output_type": "stream",
          "name": "stdout",
          "text": [
            "Original:  b\"Please see also my comment on Die Nibelungen part 1: Siegfried.<br /><br />The second part of UFA studio's gargantuan production of the Nibelungen saga continues in the stylised, symphonic and emotionally detached manner of its predecessor. However, whereas part one was a passionless portrayal of individual acts of heroism, part two is a chaotic depiction of bloodletting on a grand scale.<br /><br />As in part one, director Fritz Lang maintains a continuous dynamic rhythm, with the pace of the action and the complexity of the shot composition rising and falling smoothly as the tone of each scene demands. These pictures should only be watched with the note-perfect Gottfried Huppertz score, which fortunately is on the Kino DVD. Now, with this focus on mass action, Lang is presented with greater challenges in staging. The action sequences in his earliest features were often badly constructed, but now he simply makes them part of that rhythmic flow, with the level of activity on the screen swelling up like an orchestra.<br /><br />But just as part one made us witness Siegfried's adventures matter-of-factly and without excitement, part two presents warfare as devastating tragedy. In both pictures, there is a deliberate lack of emotional connection with the characters. That's why Lang mostly keeps the camera outside of the action, never allowing us to feel as if we are there (and this is significant because involving the audience is normally a distinction of Lang's work). That's also why the performances are unnaturally theatrical, with the actors lurching around like constipated sleepwalkers.<br /><br />Nevertheless, Kriemhild's revenge does constantly deal with emotions, and is in fact profoundly humanist. The one moment of naturalism is when Atilla holds his baby son for the first time, and Lang actually emphasises the tenderness of this scene by building up to it with the wild, frantic ride of the huns. The point is that Lang never manipulates us into taking sides, and in that respect this version has more in common with the original saga than the Wagner opera. The climactic slaughter is the very antithesis of a rousing battle scene. Why then did Hitler and co. get so teary-eyed over it, a fact which has unfairly tarnished the reputation of these films? Because the unwavering racial ideology of the Nazis made them automatically view the Nibelungs as the good guys, even if they do kill babies and betray their own kin. For Hitler, their downfall would always be a nationalist tragedy, not a human one.<br /><br />But for us non-nazi viewers, what makes this picture enjoyable is its beautiful sense of pageantry and musical rhythm. When you see these fully-developed silent pictures of Lang's, it makes you realise how much he was wasted in Hollywood. Rather than saddling him with low-budget potboilers, they should have put him to work on a few of those sword-and-sandal epics, pictures that do not have to be believable and do not have to move us emotionally, where it's the poetic, operatic tonality that sweeps us along.\"\n",
            "Round-trip:  please see also my comment on die [UNK] part 1 [UNK] br the second part of [UNK] [UNK] [UNK] production of the [UNK] [UNK] [UNK] in the [UNK] [UNK] and [UNK] [UNK] [UNK] of its [UNK] however [UNK] part one was a [UNK] [UNK] of [UNK] [UNK] of [UNK] part two is a [UNK] [UNK] of [UNK] on a [UNK] [UNK] br as in part one director [UNK] [UNK] [UNK] a [UNK] [UNK] [UNK] with the [UNK] of the action and the [UNK] of the shot [UNK] [UNK] and [UNK] [UNK] as the [UNK] of each scene [UNK] these [UNK] should only be watched with the [UNK] [UNK] [UNK] score which [UNK] is on the [UNK] dvd now with this [UNK] on [UNK] action [UNK] is [UNK] with [UNK] [UNK] in [UNK] the action sequences in his [UNK] features were often badly [UNK] but now he simply makes them part of that [UNK] [UNK] with the level of [UNK] on the screen [UNK] up like an [UNK] br but just as part one made us [UNK] [UNK] [UNK] [UNK] and without [UNK] part two [UNK] [UNK] as [UNK] [UNK] in both [UNK] there is a [UNK] lack of emotional [UNK] with the characters thats why [UNK] mostly keeps the camera outside of the action never [UNK] us to feel as if we are there and this is [UNK] because [UNK] the audience is [UNK] a [UNK] of [UNK] work thats also why the performances are [UNK] [UNK] with the actors [UNK] around like [UNK] [UNK] br [UNK] [UNK] [UNK] does [UNK] deal with [UNK] and is in fact [UNK] [UNK] the one moment of [UNK] is when [UNK] [UNK] his baby son for the first time and [UNK] actually [UNK] the [UNK] of this scene by [UNK] up to it with the [UNK] [UNK] [UNK] of the [UNK] the point is that [UNK] never [UNK] us into taking [UNK] and in that [UNK] this version has more in [UNK] with the original [UNK] than the [UNK] [UNK] the [UNK] [UNK] is the very [UNK] of a [UNK] battle scene why then did [UNK] and [UNK] get so [UNK] over it a fact which has [UNK] [UNK] the [UNK] of these films because the [UNK] [UNK] [UNK] of the [UNK] made them [UNK] view the [UNK] as the good guys even if they do kill [UNK] and [UNK] their own [UNK] for [UNK] their [UNK] would always be a [UNK] [UNK] not a human [UNK] br but for us [UNK] viewers what makes this picture enjoyable is its beautiful sense of [UNK] and musical [UNK] when you see these [UNK] [UNK] [UNK] of [UNK] it makes you [UNK] how much he was [UNK] in hollywood rather than [UNK] him with [UNK] [UNK] they should have put him to work on a few of those [UNK] [UNK] [UNK] that do not have to be believable and do not have to move us [UNK] where its the [UNK] [UNK] [UNK] that [UNK] us along                                                                                                                                                                                                                                                                                                                                                                                                                                         \n",
            "\n",
            "Original:  b'Seeing as the world snooker championship final finished in a premature and disappointing manner with Ronnie O`Sullivan defeating Greame Dott by 18 frames to 8 BBC 2 found a gap in their schedule and so decided to broadcast A WALK ON THE MOON a movie I had absolutely no knowledge off<br /><br />I missed a few seconds of the title credits so had no idea Viggo Mortensen starred in it and thought possibly it might be a cheap TVM , certainly the opening with the mawkish Pearl and Marty taking their kids to a Summer camp has that sort of made for TV feel though the brightly lit ( Too brightly lit ) cinematography seemed to suggest this was a cinematic film and it wasn`t until the appearence of Viggo Mortensen as hippy guy Walker that I realised this was a cinema release , after all someone of Mortensen`s stature wouldn`t star in a TVM , I mean that`s like a legend like Robert DeNiro appearing in a straight to video film . Wait a minute , didn`t Bob .... ?<br /><br />Some people on this site have mentioned that Pearl and Marty are an unconvincing on-screen couple and I agree . I can understand why Pearl would be attracted to exciting hippy guy but have no idea why Walker would be attracted to plain house wife Pearl . The sixties was before my time but surely if you`ve got the choice between hippy chicks and bored house wives it`s not really a choice at all . Mind you a lot of people took LSD in those days so I guess that explains it<br /><br />I feel the major problem of A WALK ON THE MOON comes down to the fact it`s a romantic drama at heart ( Just like you`d expect in a TVM ) with several cloying coming of age scenes so why include a fairly explicit sex scene ? It jars with the rest of the movie and is possibly off putting to the menopuasal women who were 20 something in 1969 . I say possibly because the movie also seems to aim at a teeenage market with the coming of age scenes and those teenagers will probably be bored with the historical and social context of man walking on the moon and Woodstock . In other words A WALK ON THE MOON tries to attract many types of audience but will probably appeal to none of them'\n",
            "Round-trip:  seeing as the world [UNK] [UNK] final [UNK] in a [UNK] and [UNK] [UNK] with [UNK] [UNK] [UNK] [UNK] [UNK] by [UNK] [UNK] to [UNK] [UNK] 2 found a [UNK] in their [UNK] and so decided to [UNK] a [UNK] on the [UNK] a movie i had absolutely no [UNK] [UNK] br i [UNK] a few [UNK] of the title credits so had no idea [UNK] [UNK] [UNK] in it and thought possibly it might be a cheap [UNK] certainly the opening with the [UNK] [UNK] and [UNK] taking their kids to a [UNK] [UNK] has that sort of made for tv feel though the [UNK] [UNK] too [UNK] [UNK] cinematography seemed to [UNK] this was a [UNK] film and it wasnt until the [UNK] of [UNK] [UNK] as [UNK] guy [UNK] that i [UNK] this was a cinema release after all someone of [UNK] [UNK] wouldnt star in a [UNK] i mean thats like a [UNK] like robert [UNK] [UNK] in a straight to video film wait a minute didnt [UNK] br br some people on this [UNK] have [UNK] that [UNK] and [UNK] are an [UNK] [UNK] couple and i [UNK] i can understand why [UNK] would be [UNK] to [UNK] [UNK] guy but have no idea why [UNK] would be [UNK] to [UNK] house wife [UNK] the [UNK] was before my time but [UNK] if youve got the [UNK] between [UNK] [UNK] and [UNK] house [UNK] its not really a [UNK] at all mind you a lot of people took [UNK] in those days so i guess that [UNK] itbr br i feel the major problem of a [UNK] on the [UNK] comes down to the fact its a romantic drama at heart just like [UNK] expect in a [UNK] with several [UNK] coming of age scenes so why [UNK] a fairly [UNK] sex scene it [UNK] with the rest of the movie and is possibly off [UNK] to the [UNK] women who were 20 something in [UNK] i say possibly because the movie also seems to [UNK] at a [UNK] [UNK] with the coming of age scenes and those [UNK] will probably be [UNK] with the [UNK] and [UNK] [UNK] of man [UNK] on the [UNK] and [UNK] in other words a [UNK] on the [UNK] tries to [UNK] many [UNK] of audience but will probably [UNK] to none of them                                                                                                                                                                                                                                                                                                                                                                                                                                                                                                                                                   \n",
            "\n",
            "Original:  b'This movie was a classic. I would have to say that this movie caught the best of a working man who learns from his mistakes. if we could all get along and learn the way everyone in this movie did. It had an important part of showing how family is an important part of life, and how pride can cause you to lose something important in life if we can not find a \"BIG THROAT\" and swallow are pride.'\n",
            "Round-trip:  this movie was a classic i would have to say that this movie [UNK] the best of a working man who [UNK] from his [UNK] if we could all get along and learn the way everyone in this movie did it had an important part of showing how family is an important part of life and how [UNK] can [UNK] you to [UNK] something important in life if we can not find a big [UNK] and [UNK] are [UNK]                                                                                                                                                                                                                                                                                                                                                                                                                                                                                                                                                                                                                                                                                                                                                                                                                                                                               \n",
            "\n"
          ]
        }
      ]
    },
    {
      "cell_type": "code",
      "source": [
        "model = tf.keras.Sequential([\n",
        "    encoder,\n",
        "    tf.keras.layers.Embedding(\n",
        "        input_dim=len(encoder.get_vocabulary()),\n",
        "        output_dim=64,\n",
        "        # Use masking to handle the variable sequence lengths\n",
        "        mask_zero=True),\n",
        "    tf.keras.layers.Bidirectional(tf.keras.layers.LSTM(64)),\n",
        "    tf.keras.layers.Dense(64, activation='relu'),\n",
        "    tf.keras.layers.Dense(1)\n",
        "])"
      ],
      "metadata": {
        "id": "JUgDSf4b4_EM"
      },
      "execution_count": null,
      "outputs": []
    },
    {
      "cell_type": "code",
      "source": [
        "print([layer.supports_masking for layer in model.layers])"
      ],
      "metadata": {
        "colab": {
          "base_uri": "https://localhost:8080/"
        },
        "id": "2clpeaJP5G2W",
        "outputId": "6c3e7e83-0dca-46d4-911a-75f742056703"
      },
      "execution_count": null,
      "outputs": [
        {
          "output_type": "stream",
          "name": "stdout",
          "text": [
            "[False, True, True, True, True]\n"
          ]
        }
      ]
    },
    {
      "cell_type": "code",
      "source": [
        "# predict on a sample text without padding.\n",
        "\n",
        "sample_text = ('The movie was cool. The animation and the graphics '\n",
        "               'were out of this world. I would recommend this movie.')\n",
        "predictions = model.predict(np.array([sample_text]))\n",
        "print(predictions[0])"
      ],
      "metadata": {
        "colab": {
          "base_uri": "https://localhost:8080/"
        },
        "id": "J--W-tg45Jc4",
        "outputId": "142697b8-60ec-4ba1-dc0d-b8e1744b0c9a"
      },
      "execution_count": null,
      "outputs": [
        {
          "output_type": "stream",
          "name": "stdout",
          "text": [
            "1/1 [==============================] - 3s 3s/step\n",
            "[0.00650911]\n"
          ]
        }
      ]
    },
    {
      "cell_type": "code",
      "source": [
        "# predict on a sample text with padding\n",
        "\n",
        "padding = \"the \" * 2000\n",
        "predictions = model.predict(np.array([sample_text, padding]))\n",
        "print(predictions[0])"
      ],
      "metadata": {
        "colab": {
          "base_uri": "https://localhost:8080/"
        },
        "id": "Koi6tgd05UfF",
        "outputId": "1d03fd33-3327-4a6d-ebdc-3018559cf658"
      },
      "execution_count": null,
      "outputs": [
        {
          "output_type": "stream",
          "name": "stdout",
          "text": [
            "1/1 [==============================] - 1s 744ms/step\n",
            "[0.00650911]\n"
          ]
        }
      ]
    },
    {
      "cell_type": "code",
      "source": [
        "model.compile(loss=tf.keras.losses.BinaryCrossentropy(from_logits=True),\n",
        "              optimizer=tf.keras.optimizers.Adam(1e-4),\n",
        "              metrics=['accuracy'])"
      ],
      "metadata": {
        "id": "duvgyOqS5qJB"
      },
      "execution_count": null,
      "outputs": []
    },
    {
      "cell_type": "code",
      "source": [
        "history = model.fit(train_dataset, epochs=10,\n",
        "                    validation_data=test_dataset,\n",
        "                    validation_steps=30)"
      ],
      "metadata": {
        "colab": {
          "base_uri": "https://localhost:8080/"
        },
        "id": "CDltQ1Ov5znE",
        "outputId": "575c4368-3371-4c76-9fe0-290152caf8c0"
      },
      "execution_count": null,
      "outputs": [
        {
          "output_type": "stream",
          "name": "stdout",
          "text": [
            "Epoch 1/10\n",
            "391/391 [==============================] - 676s 2s/step - loss: 0.2963 - accuracy: 0.8741 - val_loss: 0.3196 - val_accuracy: 0.8589\n",
            "Epoch 2/10\n",
            "391/391 [==============================] - 645s 2s/step - loss: 0.2937 - accuracy: 0.8757 - val_loss: 0.3411 - val_accuracy: 0.8464\n",
            "Epoch 3/10\n",
            "391/391 [==============================] - 649s 2s/step - loss: 0.2929 - accuracy: 0.8764 - val_loss: 0.3337 - val_accuracy: 0.8536\n",
            "Epoch 4/10\n",
            "391/391 [==============================] - 647s 2s/step - loss: 0.2908 - accuracy: 0.8758 - val_loss: 0.3157 - val_accuracy: 0.8594\n",
            "Epoch 5/10\n",
            "391/391 [==============================] - 653s 2s/step - loss: 0.2907 - accuracy: 0.8760 - val_loss: 0.3148 - val_accuracy: 0.8604\n",
            "Epoch 6/10\n",
            "391/391 [==============================] - 640s 2s/step - loss: 0.2883 - accuracy: 0.8768 - val_loss: 0.3225 - val_accuracy: 0.8646\n",
            "Epoch 7/10\n",
            "391/391 [==============================] - 644s 2s/step - loss: 0.2886 - accuracy: 0.8780 - val_loss: 0.3134 - val_accuracy: 0.8609\n",
            "Epoch 8/10\n",
            "391/391 [==============================] - 649s 2s/step - loss: 0.2837 - accuracy: 0.8789 - val_loss: 0.3402 - val_accuracy: 0.8557\n",
            "Epoch 9/10\n",
            "391/391 [==============================] - 651s 2s/step - loss: 0.2825 - accuracy: 0.8802 - val_loss: 0.3280 - val_accuracy: 0.8422\n",
            "Epoch 10/10\n",
            "391/391 [==============================] - 657s 2s/step - loss: 0.2808 - accuracy: 0.8814 - val_loss: 0.3112 - val_accuracy: 0.8568\n"
          ]
        }
      ]
    },
    {
      "cell_type": "code",
      "source": [
        "test_loss, test_acc = model.evaluate(test_dataset)\n",
        "\n",
        "print('Test Loss:', test_loss)\n",
        "print('Test Accuracy:', test_acc)"
      ],
      "metadata": {
        "colab": {
          "base_uri": "https://localhost:8080/"
        },
        "id": "BwgItkg352jd",
        "outputId": "a99803b2-d371-43d1-d120-cbf7996ee909"
      },
      "execution_count": null,
      "outputs": [
        {
          "output_type": "stream",
          "name": "stdout",
          "text": [
            "391/391 [==============================] - 169s 432ms/step - loss: 0.3157 - accuracy: 0.8550\n",
            "Test Loss: 0.31569916009902954\n",
            "Test Accuracy: 0.8550000190734863\n"
          ]
        }
      ]
    },
    {
      "cell_type": "code",
      "source": [
        "plt.figure(figsize=(16, 8))\n",
        "plt.subplot(1, 2, 1)\n",
        "plot_graphs(history, 'accuracy')\n",
        "plt.ylim(None, 1)\n",
        "plt.subplot(1, 2, 2)\n",
        "plot_graphs(history, 'loss')\n",
        "plt.ylim(0, None)"
      ],
      "metadata": {
        "colab": {
          "base_uri": "https://localhost:8080/",
          "height": 718
        },
        "id": "kXDdbZwot__6",
        "outputId": "188f55cf-1a2d-4de3-bb35-6afc5e33a8b2"
      },
      "execution_count": null,
      "outputs": [
        {
          "output_type": "execute_result",
          "data": {
            "text/plain": [
              "(0.0, 0.34409996271133425)"
            ]
          },
          "metadata": {},
          "execution_count": 21
        },
        {
          "output_type": "display_data",
          "data": {
            "text/plain": [
              "<Figure size 1600x800 with 2 Axes>"
            ],
            "image/png": "[encoded data removed]"
          },
          "metadata": {}
        }
      ]
    },
    {
      "cell_type": "code",
      "source": [
        "sample_text = ('The movie was cool. The animation and the graphics '\n",
        "               'were out of this world. I would recommend this movie.')\n",
        "predictions = model.predict(np.array([sample_text]))"
      ],
      "metadata": {
        "colab": {
          "base_uri": "https://localhost:8080/"
        },
        "id": "FmU8eNn4vxIx",
        "outputId": "d0e0dc1e-5d1a-4d3c-e40c-2850fe4d0f95"
      },
      "execution_count": null,
      "outputs": [
        {
          "output_type": "stream",
          "name": "stdout",
          "text": [
            "1/1 [==============================] - 5s 5s/step\n"
          ]
        }
      ]
    },
    {
      "cell_type": "code",
      "source": [
        "predictions"
      ],
      "metadata": {
        "colab": {
          "base_uri": "https://localhost:8080/"
        },
        "id": "buUMItCNwkfD",
        "outputId": "93c0620a-ff95-463b-8d41-2418e6cce5fa"
      },
      "execution_count": null,
      "outputs": [
        {
          "output_type": "execute_result",
          "data": {
            "text/plain": [
              "array([[0.4951532]], dtype=float32)"
            ]
          },
          "metadata": {},
          "execution_count": 23
        }
      ]
    },
    {
      "cell_type": "code",
      "source": [
        "model = tf.keras.Sequential([\n",
        "    encoder,\n",
        "    tf.keras.layers.Embedding(len(encoder.get_vocabulary()), 64, mask_zero=True),\n",
        "    tf.keras.layers.Bidirectional(tf.keras.layers.LSTM(64,  return_sequences=True)),\n",
        "    tf.keras.layers.Bidirectional(tf.keras.layers.LSTM(32)),\n",
        "    tf.keras.layers.Dense(64, activation='relu'),\n",
        "    tf.keras.layers.Dropout(0.5),\n",
        "    tf.keras.layers.Dense(1)\n",
        "])"
      ],
      "metadata": {
        "id": "eRFzYyQbwpCJ"
      },
      "execution_count": null,
      "outputs": []
    },
    {
      "cell_type": "code",
      "source": [
        "model.compile(loss=tf.keras.losses.BinaryCrossentropy(from_logits=True),\n",
        "              optimizer=tf.keras.optimizers.Adam(1e-4),\n",
        "              metrics=['accuracy'])"
      ],
      "metadata": {
        "id": "xsndzuMjxyaf"
      },
      "execution_count": null,
      "outputs": []
    },
    {
      "cell_type": "code",
      "source": [
        "history = model.fit(train_dataset, epochs=10,\n",
        "                    validation_data=test_dataset,\n",
        "                    validation_steps=30)"
      ],
      "metadata": {
        "id": "jVEHYqmCx_Ei"
      },
      "execution_count": null,
      "outputs": []
    },
    {
      "cell_type": "code",
      "source": [],
      "metadata": {
        "id": "dUxtOMvvx_oT"
      },
      "execution_count": null,
      "outputs": []
    }
  ]
}