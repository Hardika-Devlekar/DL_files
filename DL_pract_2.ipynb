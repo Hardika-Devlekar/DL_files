{
  "nbformat": 4,
  "nbformat_minor": 0,
  "metadata": {
    "colab": {
      "provenance": []
    },
    "kernelspec": {
      "name": "python3",
      "display_name": "Python 3"
    },
    "language_info": {
      "name": "python"
    }
  },
  "cells": [
    {
      "cell_type": "code",
      "execution_count": null,
      "metadata": {
        "id": "CzeQhGwOriOt"
      },
      "outputs": [],
      "source": [
        "# importing Python library\n",
        "import numpy as np"
      ]
    },
    {
      "cell_type": "code",
      "source": [
        "# define Unit Step Function\n",
        "def unitStep(v):\n",
        "    if v >= 0:\n",
        "        return 1\n",
        "    else:\n",
        "        return 0"
      ],
      "metadata": {
        "id": "YuI_DqVnropV"
      },
      "execution_count": null,
      "outputs": []
    },
    {
      "cell_type": "code",
      "source": [
        "# design Perceptron Model\n",
        "def perceptronModel(x, w, b):\n",
        "    v = np.dot(w, x) + b\n",
        "    y = unitStep(v)\n",
        "    return y"
      ],
      "metadata": {
        "id": "AsUN_rO1rq9g"
      },
      "execution_count": null,
      "outputs": []
    },
    {
      "cell_type": "code",
      "source": [
        "# NOT Logic Function\n",
        "# wNOT = -1, bNOT = 0.5\n",
        "\n",
        "def NOT_logicFunction(x):\n",
        "    wNOT = -1\n",
        "    bNOT = 0.5\n",
        "    return perceptronModel(x, wNOT, bNOT)"
      ],
      "metadata": {
        "id": "UC5WLVSerthx"
      },
      "execution_count": null,
      "outputs": []
    },
    {
      "cell_type": "code",
      "source": [
        "# AND Logic Function\n",
        "# here w1 = wAND1 = 1,\n",
        "# w2 = wAND2 = 1, bAND = -1.5\n",
        "\n",
        "def AND_logicFunction(x):\n",
        "    w = np.array([1, 1])\n",
        "    bAND = -1.5\n",
        "    return perceptronModel(x, w, bAND)"
      ],
      "metadata": {
        "id": "lb-N-Cufrx38"
      },
      "execution_count": null,
      "outputs": []
    },
    {
      "cell_type": "code",
      "source": [
        "# OR Logic Function\n",
        "# w1 = 1, w2 = 1, bOR = -0.5\n",
        "\n",
        "def OR_logicFunction(x):\n",
        "    w = np.array([1, 1])\n",
        "    bOR = -0.5\n",
        "    return perceptronModel(x, w, bOR)"
      ],
      "metadata": {
        "id": "_tJJR9rzr0k8"
      },
      "execution_count": null,
      "outputs": []
    },
    {
      "cell_type": "code",
      "source": [
        "# XOR Logic Function\n",
        "# with AND, OR and NOT\n",
        "# function calls in sequence\n",
        "def XOR_logicFunction(x):\n",
        "  y1 = AND_logicFunction(x)\n",
        "  y2 = OR_logicFunction(x)\n",
        "  y3 = NOT_logicFunction(y1)\n",
        "  final_x = np.array([y2, y3])\n",
        "  finalOutput = AND_logicFunction(final_x)\n",
        "  y3 = NOT_logicFunction(y1)\n",
        "  return finalOutput"
      ],
      "metadata": {
        "id": "JeITXWigr4Hn"
      },
      "execution_count": null,
      "outputs": []
    },
    {
      "cell_type": "code",
      "source": [
        "# testing the Perceptron Model\n",
        "test1 = np.array([0, 1])\n",
        "test2 = np.array([1, 1])\n",
        "test3 = np.array([0, 0])\n",
        "test4 = np.array([1, 0])\n",
        "\n",
        "\n",
        "print(\"XOR({}, {}) = {}\".format(0, 1, XOR_logicFunction(test1)))\n",
        "print(\"XOR({}, {}) = {}\".format(1, 1, XOR_logicFunction(test2)))\n",
        "print(\"XOR({}, {}) = {}\".format(0, 0, XOR_logicFunction(test3)))\n",
        "print(\"XOR({}, {}) = {}\".format(1, 0, XOR_logicFunction(test4)))"
      ],
      "metadata": {
        "id": "riqtl2yXr6a3",
        "outputId": "2c4556dc-fd33-4096-a409-da945543eade",
        "colab": {
          "base_uri": "https://localhost:8080/"
        }
      },
      "execution_count": null,
      "outputs": [
        {
          "output_type": "stream",
          "name": "stdout",
          "text": [
            "XOR(0, 1) = 1\n",
            "XOR(1, 1) = 0\n",
            "XOR(0, 0) = 0\n",
            "XOR(1, 0) = 1\n"
          ]
        }
      ]
    },
    {
      "cell_type": "code",
      "source": [],
      "metadata": {
        "id": "wPhVXwN6r9nc"
      },
      "execution_count": null,
      "outputs": []
    }
  ]
}