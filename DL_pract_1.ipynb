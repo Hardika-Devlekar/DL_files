{
  "nbformat": 4,
  "nbformat_minor": 0,
  "metadata": {
    "colab": {
      "provenance": []
    },
    "kernelspec": {
      "name": "python3",
      "display_name": "Python 3"
    },
    "language_info": {
      "name": "python"
    }
  },
  "cells": [
    {
      "cell_type": "code",
      "execution_count": null,
      "metadata": {
        "id": "znZju-KvnHpP"
      },
      "outputs": [],
      "source": [
        "# importing numpy library\n",
        "import numpy as np"
      ]
    },
    {
      "cell_type": "code",
      "source": [
        "# create numpy 2d-array\n",
        "m = np.array([[1, 2],\n",
        "\t\t\t[2, 3]])\n",
        "\n",
        "print(\"Printing the Original square array:\\n\",m)\n",
        "print()\n",
        "print('***************************************')\n",
        "print()\n",
        "# finding eigenvalues and eigenvectors\n",
        "w, v = np.linalg.eig(m)"
      ],
      "metadata": {
        "colab": {
          "base_uri": "https://localhost:8080/"
        },
        "id": "a9r6kMm2nOao",
        "outputId": "77a3bf07-813d-4ab2-e702-bb40f8a4ae11"
      },
      "execution_count": null,
      "outputs": [
        {
          "output_type": "stream",
          "name": "stdout",
          "text": [
            "Printing the Original square array:\n",
            " [[1 2]\n",
            " [2 3]]\n",
            "\n",
            "***************************************\n",
            "\n"
          ]
        }
      ]
    },
    {
      "cell_type": "code",
      "source": [
        "# printing eigen values\n",
        "print(\"Printing the Eigen values of the given square array:\\n\",w)\n",
        "print()\n",
        "# printing eigen vectors\n",
        "print(\"Printing Right Eigen Vectors of the given square array:\\n\",v)"
      ],
      "metadata": {
        "colab": {
          "base_uri": "https://localhost:8080/"
        },
        "id": "Xmg5WZyonXqq",
        "outputId": "7c8e6c0f-f46d-4051-c1ef-3f59428c681c"
      },
      "execution_count": null,
      "outputs": [
        {
          "output_type": "stream",
          "name": "stdout",
          "text": [
            "Printing the Eigen values of the given square array:\n",
            " [-0.23606798  4.23606798]\n",
            "\n",
            "Printing Right Eigen Vectors of the given square array:\n",
            " [[-0.85065081 -0.52573111]\n",
            " [ 0.52573111 -0.85065081]]\n"
          ]
        }
      ]
    },
    {
      "cell_type": "code",
      "source": [
        "# importing numpy library\n",
        "import numpy as np"
      ],
      "metadata": {
        "id": "UmDhn_XOna3E"
      },
      "execution_count": null,
      "outputs": []
    },
    {
      "cell_type": "code",
      "source": [
        "# create numpy 2d-array\n",
        "m = np.array([[1, 2, 3],\n",
        "\t\t\t[2, 3, 4],\n",
        "\t\t\t[4, 5, 6]])\n",
        "\n",
        "print(\"Printing the Original square array:\\n\",m)\n",
        "print()\n",
        "print('***************************************')\n",
        "print()"
      ],
      "metadata": {
        "colab": {
          "base_uri": "https://localhost:8080/"
        },
        "id": "JiWFZWEepCw6",
        "outputId": "44eebe88-4659-4653-ec07-16dd14a7068b"
      },
      "execution_count": null,
      "outputs": [
        {
          "output_type": "stream",
          "name": "stdout",
          "text": [
            "Printing the Original square array:\n",
            " [[1 2 3]\n",
            " [2 3 4]\n",
            " [4 5 6]]\n",
            "\n",
            "***************************************\n",
            "\n"
          ]
        }
      ]
    },
    {
      "cell_type": "code",
      "source": [
        "# finding eigenvalues and eigenvectors\n",
        "w, v = np.linalg.eig(m)"
      ],
      "metadata": {
        "id": "tNiepJ9SpFRM"
      },
      "execution_count": null,
      "outputs": []
    },
    {
      "cell_type": "code",
      "source": [
        "# printing eigen values\n",
        "print(\"Printing the Eigen values of the given square array:\\n\",w)\n",
        "print()"
      ],
      "metadata": {
        "colab": {
          "base_uri": "https://localhost:8080/"
        },
        "id": "ZhjqO4g2pJiO",
        "outputId": "b40ae89d-70b1-4a48-f650-8bc385fa8813"
      },
      "execution_count": null,
      "outputs": [
        {
          "output_type": "stream",
          "name": "stdout",
          "text": [
            "Printing the Eigen values of the given square array:\n",
            " [ 1.08309519e+01 -8.30951895e-01  1.01486082e-16]\n",
            "\n"
          ]
        }
      ]
    },
    {
      "cell_type": "code",
      "source": [
        "# printing eigen vectors\n",
        "print(\"Printing Right eigenvectors of the given square array:\\n\",v)"
      ],
      "metadata": {
        "colab": {
          "base_uri": "https://localhost:8080/"
        },
        "id": "E_F9x5YspOqk",
        "outputId": "c42a7782-2802-4134-ab0d-6f2049d3e00f"
      },
      "execution_count": null,
      "outputs": [
        {
          "output_type": "stream",
          "name": "stdout",
          "text": [
            "Printing Right eigenvectors of the given square array:\n",
            " [[ 0.34416959  0.72770285  0.40824829]\n",
            " [ 0.49532111  0.27580256 -0.81649658]\n",
            " [ 0.79762415 -0.62799801  0.40824829]]\n"
          ]
        }
      ]
    },
    {
      "cell_type": "code",
      "source": [
        "import tensorflow as tf\n",
        "# Let's see how we can compute the eigen vectors and values from a matrix\n",
        "\n",
        "e_matrix_A = tf.random.uniform([2, 2], minval=3, maxval=10, dtype=tf.float32, name=\"matrixA\")\n",
        "\n",
        "print(\"Matrix A: \\n{}\\n\\n\".format(e_matrix_A))"
      ],
      "metadata": {
        "colab": {
          "base_uri": "https://localhost:8080/"
        },
        "id": "331Xg3mPpT4w",
        "outputId": "7113aa29-e443-41f1-d2c0-84f20a235ae3"
      },
      "execution_count": null,
      "outputs": [
        {
          "output_type": "stream",
          "name": "stdout",
          "text": [
            "Matrix A: \n",
            "[[7.5477686 9.690371 ]\n",
            " [3.0403204 9.128765 ]]\n",
            "\n",
            "\n"
          ]
        }
      ]
    },
    {
      "cell_type": "code",
      "source": [
        "# Calculating the eigen values and vectors using tf.linalg.eigh, if you only want the values you can use eigvalsh\n",
        "\n",
        "eigen_values_A, eigen_vectors_A = tf.linalg.eigh(e_matrix_A)\n",
        "\n",
        "print(\"Eigen Vectors: \\n{} \\n\\nEigen Values: \\n{}\\n\".format(eigen_vectors_A, eigen_values_A))"
      ],
      "metadata": {
        "colab": {
          "base_uri": "https://localhost:8080/"
        },
        "id": "ggZQ1kWFphRl",
        "outputId": "7468aac9-0249-43b0-8234-533a02e3e374"
      },
      "execution_count": null,
      "outputs": [
        {
          "output_type": "stream",
          "name": "stdout",
          "text": [
            "Eigen Vectors: \n",
            "[[-0.7910873 -0.6117031]\n",
            " [ 0.6117031 -0.7910873]] \n",
            "\n",
            "Eigen Values: \n",
            "[ 5.1968594 11.4796715]\n",
            "\n"
          ]
        }
      ]
    },
    {
      "cell_type": "code",
      "source": [
        "# Let's see how we can compute the eigen vectors and values from a matrix\n",
        "\n",
        "e_matrix_A = tf.random.uniform([3, 3], minval=3, maxval=10, dtype=tf.float32, name=\"matrixA\")\n",
        "\n",
        "print(\"Matrix A: \\n{}\\n\\n\".format(e_matrix_A))"
      ],
      "metadata": {
        "colab": {
          "base_uri": "https://localhost:8080/"
        },
        "id": "oKk7GOuUpmBK",
        "outputId": "79779b22-63e9-4bad-e057-0517eff553bf"
      },
      "execution_count": null,
      "outputs": [
        {
          "output_type": "stream",
          "name": "stdout",
          "text": [
            "Matrix A: \n",
            "[[3.408463  7.607877  9.247894 ]\n",
            " [7.7837586 4.974331  6.1148043]\n",
            " [3.1414108 5.684109  6.246533 ]]\n",
            "\n",
            "\n"
          ]
        }
      ]
    },
    {
      "cell_type": "code",
      "source": [
        "# Calculating the eigen values and vectors using tf.linalg.eigh, if you only want the values you can use eigvalsh\n",
        "\n",
        "eigen_values_A, eigen_vectors_A = tf.linalg.eigh(e_matrix_A)\n",
        "\n",
        "print(\"Eigen Vectors: \\n{} \\n\\nEigen Values: \\n{}\\n\".format(eigen_vectors_A, eigen_values_A))"
      ],
      "metadata": {
        "colab": {
          "base_uri": "https://localhost:8080/"
        },
        "id": "TMaRLzTypo76",
        "outputId": "6904852c-c076-4e7f-866b-b7eecb643ba3"
      },
      "execution_count": null,
      "outputs": [
        {
          "output_type": "stream",
          "name": "stdout",
          "text": [
            "Eigen Vectors: \n",
            "[[-0.67557275  0.5103162   0.5321456 ]\n",
            " [ 0.7124913   0.26623726  0.64921045]\n",
            " [-0.18962568 -0.8177379   0.5434582 ]] \n",
            "\n",
            "Eigen Values: \n",
            "[-3.9189014  2.4354901 16.11274  ]\n",
            "\n"
          ]
        }
      ]
    },
    {
      "cell_type": "code",
      "source": [],
      "metadata": {
        "id": "E0gbtuuyprFF"
      },
      "execution_count": null,
      "outputs": []
    }
  ]
}