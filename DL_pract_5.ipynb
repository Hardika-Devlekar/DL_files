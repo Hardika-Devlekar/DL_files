{
  "nbformat": 4,
  "nbformat_minor": 0,
  "metadata": {
    "colab": {
      "provenance": []
    },
    "kernelspec": {
      "name": "python3",
      "display_name": "Python 3"
    },
    "language_info": {
      "name": "python"
    }
  },
  "cells": [
    {
      "cell_type": "code",
      "execution_count": null,
      "metadata": {
        "id": "35tpdgjqX_0S"
      },
      "outputs": [],
      "source": [
        "from tensorflow.keras.datasets import cifar10\n",
        "from tensorflow.keras.models import Sequential\n",
        "from tensorflow.keras.layers import Dense, Flatten, Conv2D, MaxPooling2D\n",
        "from tensorflow.keras.losses import sparse_categorical_crossentropy\n",
        "from tensorflow.keras.optimizers.legacy import Adam\n",
        "import matplotlib.pyplot as plt"
      ]
    },
    {
      "cell_type": "code",
      "source": [
        "# Model configuration\n",
        "batch_size = 50\n",
        "img_width, img_height, img_num_channels = 32, 32, 3\n",
        "loss_function = sparse_categorical_crossentropy\n",
        "no_classes = 100\n",
        "no_epochs = 10   # you can increase it to 20,50,70, 100\n",
        "optimizer = Adam()\n",
        "verbosity = 1"
      ],
      "metadata": {
        "id": "WKoaIVhcYAwg"
      },
      "execution_count": null,
      "outputs": []
    },
    {
      "cell_type": "code",
      "source": [
        "# Load CIFAR-10 data\n",
        "(input_train, target_train), (input_test, target_test) = cifar10.load_data()"
      ],
      "metadata": {
        "colab": {
          "base_uri": "https://localhost:8080/"
        },
        "id": "byuKGXqwYEJl",
        "outputId": "0682de0f-e91c-4619-e98c-db0eeb2d96da"
      },
      "execution_count": null,
      "outputs": [
        {
          "output_type": "stream",
          "name": "stdout",
          "text": [
            "Downloading data from https://www.cs.toronto.edu/~kriz/cifar-10-python.tar.gz\n",
            "170498071/170498071 [==============================] - 4s 0us/step\n"
          ]
        }
      ]
    },
    {
      "cell_type": "code",
      "source": [
        "# Determine shape of the data\n",
        "input_shape = (img_width, img_height, img_num_channels)"
      ],
      "metadata": {
        "id": "sKhn_6KmYHkE"
      },
      "execution_count": null,
      "outputs": []
    },
    {
      "cell_type": "code",
      "source": [
        "# Parse numbers as floats\n",
        "input_train = input_train.astype('float32')\n",
        "input_test = input_test.astype('float32')"
      ],
      "metadata": {
        "id": "vcIV8gA0YLzl"
      },
      "execution_count": null,
      "outputs": []
    },
    {
      "cell_type": "code",
      "source": [
        "# Normalize data\n",
        "input_train = input_train / 255\n",
        "input_test = input_test / 255"
      ],
      "metadata": {
        "id": "_gxma3R_YPCC"
      },
      "execution_count": null,
      "outputs": []
    },
    {
      "cell_type": "code",
      "source": [
        "# Create the model\n",
        "model = Sequential()\n",
        "model.add(Conv2D(32, kernel_size=(3, 3), activation='relu', input_shape=input_shape))\n",
        "model.add(MaxPooling2D(pool_size=(2, 2)))\n",
        "model.add(Conv2D(64, kernel_size=(3, 3), activation='relu'))\n",
        "model.add(MaxPooling2D(pool_size=(2, 2)))\n",
        "model.add(Flatten())\n",
        "model.add(Dense(256, activation='relu'))\n",
        "model.add(Dense(128, activation='relu'))\n",
        "model.add(Dense(no_classes, activation='softmax'))\n",
        "\n",
        "model.summary()"
      ],
      "metadata": {
        "colab": {
          "base_uri": "https://localhost:8080/"
        },
        "id": "q3Au_ekaYSfL",
        "outputId": "ba15c58a-17f6-48ca-de5c-34f3fe8cb279"
      },
      "execution_count": null,
      "outputs": [
        {
          "output_type": "stream",
          "name": "stdout",
          "text": [
            "Model: \"sequential\"\n",
            "_________________________________________________________________\n",
            " Layer (type)                Output Shape              Param #   \n",
            "=================================================================\n",
            " conv2d (Conv2D)             (None, 30, 30, 32)        896       \n",
            "                                                                 \n",
            " max_pooling2d (MaxPooling2  (None, 15, 15, 32)        0         \n",
            " D)                                                              \n",
            "                                                                 \n",
            " conv2d_1 (Conv2D)           (None, 13, 13, 64)        18496     \n",
            "                                                                 \n",
            " max_pooling2d_1 (MaxPoolin  (None, 6, 6, 64)          0         \n",
            " g2D)                                                            \n",
            "                                                                 \n",
            " flatten (Flatten)           (None, 2304)              0         \n",
            "                                                                 \n",
            " dense (Dense)               (None, 256)               590080    \n",
            "                                                                 \n",
            " dense_1 (Dense)             (None, 128)               32896     \n",
            "                                                                 \n",
            " dense_2 (Dense)             (None, 100)               12900     \n",
            "                                                                 \n",
            "=================================================================\n",
            "Total params: 655268 (2.50 MB)\n",
            "Trainable params: 655268 (2.50 MB)\n",
            "Non-trainable params: 0 (0.00 Byte)\n",
            "_________________________________________________________________\n"
          ]
        }
      ]
    },
    {
      "cell_type": "code",
      "source": [
        "# Compile the model\n",
        "model.compile(loss=loss_function, optimizer=optimizer,metrics=['accuracy'])\n",
        "# Fit data to model (this will take little time to train)\n",
        "history = model.fit(input_train, target_train, batch_size=batch_size, epochs=no_epochs, verbose=verbosity)"
      ],
      "metadata": {
        "colab": {
          "base_uri": "https://localhost:8080/"
        },
        "id": "7qdTLNPVYWs9",
        "outputId": "40e42150-09c1-436b-bcec-55e09572bac8"
      },
      "execution_count": null,
      "outputs": [
        {
          "output_type": "stream",
          "name": "stdout",
          "text": [
            "Epoch 1/10\n",
            "1000/1000 [==============================] - 56s 55ms/step - loss: 1.5384 - accuracy: 0.4455\n",
            "Epoch 2/10\n",
            "1000/1000 [==============================] - 55s 55ms/step - loss: 1.1016 - accuracy: 0.6139\n",
            "Epoch 3/10\n",
            "1000/1000 [==============================] - 65s 65ms/step - loss: 0.9280 - accuracy: 0.6750\n",
            "Epoch 4/10\n",
            "1000/1000 [==============================] - 55s 55ms/step - loss: 0.8059 - accuracy: 0.7202\n",
            "Epoch 5/10\n",
            "1000/1000 [==============================] - 55s 55ms/step - loss: 0.7068 - accuracy: 0.7539\n",
            "Epoch 6/10\n",
            "1000/1000 [==============================] - 54s 54ms/step - loss: 0.6111 - accuracy: 0.7879\n",
            "Epoch 7/10\n",
            "1000/1000 [==============================] - 55s 55ms/step - loss: 0.5189 - accuracy: 0.8190\n",
            "Epoch 8/10\n",
            "1000/1000 [==============================] - 55s 55ms/step - loss: 0.4390 - accuracy: 0.8470\n",
            "Epoch 9/10\n",
            "1000/1000 [==============================] - 54s 54ms/step - loss: 0.3582 - accuracy: 0.8747\n",
            "Epoch 10/10\n",
            "1000/1000 [==============================] - 54s 54ms/step - loss: 0.2949 - accuracy: 0.8963\n"
          ]
        }
      ]
    },
    {
      "cell_type": "code",
      "source": [
        "# Generate generalization metrics\n",
        "score = model.evaluate(input_test, target_test, verbose=0)\n",
        "print(f'Test loss: {score[0]} / Test accuracy: {score[1]}')"
      ],
      "metadata": {
        "colab": {
          "base_uri": "https://localhost:8080/"
        },
        "id": "_tntxF3-YaBZ",
        "outputId": "0fd96c93-0e57-4815-d38e-701516d15ce3"
      },
      "execution_count": null,
      "outputs": [
        {
          "output_type": "stream",
          "name": "stdout",
          "text": [
            "Test loss: 1.1230543851852417 / Test accuracy: 0.7067000269889832\n"
          ]
        }
      ]
    },
    {
      "cell_type": "code",
      "source": [
        "# Visualize history\n",
        "# Plot history: Loss\n",
        "plt.plot(history.history['loss'])\n",
        "plt.title('Validation loss history')\n",
        "plt.ylabel('Loss value')\n",
        "plt.xlabel('No. epoch')\n",
        "plt.show()"
      ],
      "metadata": {
        "colab": {
          "base_uri": "https://localhost:8080/",
          "height": 472
        },
        "id": "JiVvtQHjY7cV",
        "outputId": "58a7bd2b-d400-4698-9459-0425569cd95a"
      },
      "execution_count": null,
      "outputs": [
        {
          "output_type": "display_data",
          "data": {
            "text/plain": [
              "<Figure size 640x480 with 1 Axes>"
            ],
            "image/png": "[encoded data removed]"
          },
          "metadata": {}
        }
      ]
    },
    {
      "cell_type": "code",
      "source": [
        "# Plot history: Accuracy\n",
        "plt.plot(history.history['accuracy'])\n",
        "plt.title('Validation accuracy history')\n",
        "plt.ylabel('Accuracy value (%)')\n",
        "plt.xlabel('No. epoch')\n",
        "plt.show()"
      ],
      "metadata": {
        "colab": {
          "base_uri": "https://localhost:8080/",
          "height": 472
        },
        "id": "dfFQ9OZUY-w4",
        "outputId": "fdeae219-a1d9-4f73-f260-532618d3bf3c"
      },
      "execution_count": null,
      "outputs": [
        {
          "output_type": "display_data",
          "data": {
            "text/plain": [
              "<Figure size 640x480 with 1 Axes>"
            ],
            "image/png": "[encoded data removed]"
          },
          "metadata": {}
        }
      ]
    },
    {
      "cell_type": "code",
      "source": [
        "# By Adding k fold cross validation\n",
        "from tensorflow.keras.datasets import cifar10\n",
        "from tensorflow.keras.models import Sequential\n",
        "from tensorflow.keras.layers import Dense, Flatten, Conv2D, MaxPooling2D\n",
        "from tensorflow.keras.losses import sparse_categorical_crossentropy\n",
        "from tensorflow.keras.optimizers.legacy import Adam\n",
        "from sklearn.model_selection import KFold\n",
        "import numpy as np"
      ],
      "metadata": {
        "id": "n330nLfeZBiD"
      },
      "execution_count": null,
      "outputs": []
    },
    {
      "cell_type": "code",
      "source": [
        "# Model configuration\n",
        "batch_size = 50\n",
        "img_width, img_height, img_num_channels = 32, 32, 3\n",
        "loss_function = sparse_categorical_crossentropy\n",
        "no_classes = 100\n",
        "no_epochs = 10\n",
        "optimizer = Adam()\n",
        "verbosity = 1\n",
        "num_folds = 5"
      ],
      "metadata": {
        "id": "-pUKQ3OecdBz"
      },
      "execution_count": null,
      "outputs": []
    },
    {
      "cell_type": "code",
      "source": [
        "# Load CIFAR-10 data\n",
        "(input_train, target_train), (input_test, target_test) = cifar10.load_data()"
      ],
      "metadata": {
        "id": "XefbrEKqcfY_"
      },
      "execution_count": null,
      "outputs": []
    },
    {
      "cell_type": "code",
      "source": [
        "# Determine shape of the data\n",
        "input_shape = (img_width, img_height, img_num_channels)"
      ],
      "metadata": {
        "id": "XUJwmT-Qchyt"
      },
      "execution_count": null,
      "outputs": []
    },
    {
      "cell_type": "code",
      "source": [
        "# Parse numbers as floats\n",
        "input_train = input_train.astype('float32')\n",
        "input_test = input_test.astype('float32')"
      ],
      "metadata": {
        "id": "U070ihtsckZX"
      },
      "execution_count": null,
      "outputs": []
    },
    {
      "cell_type": "code",
      "source": [
        "# Normalize data\n",
        "input_train = input_train / 255\n",
        "input_test = input_test / 255"
      ],
      "metadata": {
        "id": "sggZtgq3cnFJ"
      },
      "execution_count": null,
      "outputs": []
    },
    {
      "cell_type": "code",
      "source": [
        "# Define per-fold score containers\n",
        "acc_per_fold = []\n",
        "loss_per_fold = []"
      ],
      "metadata": {
        "id": "3KYbBO7xcqiX"
      },
      "execution_count": null,
      "outputs": []
    },
    {
      "cell_type": "code",
      "source": [
        "# Merge inputs and targets\n",
        "inputs = np.concatenate((input_train, input_test), axis=0)\n",
        "targets = np.concatenate((target_train, target_test), axis=0)"
      ],
      "metadata": {
        "id": "6MPi2xv1cteX"
      },
      "execution_count": null,
      "outputs": []
    },
    {
      "cell_type": "code",
      "source": [
        "# Define the K-fold Cross Validator\n",
        "kfold = KFold(n_splits=num_folds, shuffle=True)\n",
        "# K-fold Cross Validation model evaluation\n",
        "fold_no = 1"
      ],
      "metadata": {
        "id": "Jaufuyf4cwQA"
      },
      "execution_count": null,
      "outputs": []
    },
    {
      "cell_type": "code",
      "source": [
        "for train, test in kfold.split(inputs, targets):\n",
        "\n",
        "  # Define the model architecture\n",
        "  model = Sequential()\n",
        "  model.add(Conv2D(32, kernel_size=(3, 3), activation='relu',      input_shape=input_shape))\n",
        "  model.add(MaxPooling2D(pool_size=(2, 2)))\n",
        "  model.add(Conv2D(64, kernel_size=(3, 3), activation='relu'))\n",
        "  model.add(MaxPooling2D(pool_size=(2, 2)))\n",
        "  model.add(Flatten())\n",
        "  model.add(Dense(256, activation='relu'))\n",
        "  model.add(Dense(128, activation='relu'))\n",
        "  model.add(Dense(no_classes, activation='softmax'))"
      ],
      "metadata": {
        "id": "_4d-fbnScybR"
      },
      "execution_count": null,
      "outputs": []
    },
    {
      "cell_type": "code",
      "source": [
        "  # Compile the model\n",
        "  model.compile(loss=loss_function,\n",
        "                optimizer=optimizer,\n",
        "                metrics=['accuracy'])\n",
        "  # Generate a print\n",
        "  print('--------------------------------------------------------------')\n",
        "  print(f'Training for fold {fold_no} ...')\n",
        "\n",
        "\n",
        "\n",
        "\n",
        "\n",
        "  # Fit data to model\n",
        "  history = model.fit(inputs[train], targets[train],\n",
        "             batch_size=batch_size,\n",
        "            epochs=no_epochs,\n",
        "            verbose=verbosity)\n",
        "\n",
        "  # Generate generalization metrics\n",
        "  scores = model.evaluate(inputs[test], targets[test], verbose=0)\n",
        "  print(f'Score for fold {fold_no}: {model.metrics_names[0]} of {scores[0]}; {model.metrics_names[1]} of {scores[1]*100}%')\n",
        "  acc_per_fold.append(scores[1] * 100)\n",
        "  loss_per_fold.append(scores[0])\n",
        "\n",
        "  # Increase fold number\n",
        "  fold_no = fold_no + 1"
      ],
      "metadata": {
        "colab": {
          "base_uri": "https://localhost:8080/"
        },
        "id": "GKav_t3-c5Wd",
        "outputId": "c7f1bd3e-7b2b-4978-cdc2-75e5aaacd55a"
      },
      "execution_count": null,
      "outputs": [
        {
          "output_type": "stream",
          "name": "stdout",
          "text": [
            "--------------------------------------------------------------\n",
            "Training for fold 1 ...\n",
            "Epoch 1/10\n",
            "960/960 [==============================] - 54s 56ms/step - loss: 0.2956 - accuracy: 0.8942\n",
            "Epoch 2/10\n",
            "960/960 [==============================] - 53s 56ms/step - loss: 0.2470 - accuracy: 0.9122\n",
            "Epoch 3/10\n",
            "960/960 [==============================] - 53s 55ms/step - loss: 0.2022 - accuracy: 0.9286\n",
            "Epoch 4/10\n",
            "960/960 [==============================] - 52s 54ms/step - loss: 0.1781 - accuracy: 0.9369\n",
            "Epoch 5/10\n",
            "960/960 [==============================] - 52s 54ms/step - loss: 0.1440 - accuracy: 0.9493\n",
            "Epoch 6/10\n",
            "960/960 [==============================] - 53s 55ms/step - loss: 0.1320 - accuracy: 0.9538\n",
            "Epoch 7/10\n",
            "960/960 [==============================] - 52s 55ms/step - loss: 0.1160 - accuracy: 0.9586\n",
            "Epoch 8/10\n",
            "960/960 [==============================] - 53s 55ms/step - loss: 0.1132 - accuracy: 0.9609\n",
            "Epoch 9/10\n",
            "960/960 [==============================] - 53s 55ms/step - loss: 0.1059 - accuracy: 0.9631\n",
            "Epoch 10/10\n",
            "960/960 [==============================] - 52s 55ms/step - loss: 0.0927 - accuracy: 0.9682\n",
            "Score for fold 1: loss of 2.0771045684814453; accuracy of 68.84999871253967%\n"
          ]
        }
      ]
    },
    {
      "cell_type": "code",
      "source": [
        "# == Provide average scores ==\n",
        "print('------------------------------------------------------------------------------------------------------------')\n",
        "print('Score per fold')\n",
        "for i in range(0, len(acc_per_fold)):\n",
        "  print('----------------------------------------------------------------------------------------------------------')\n",
        "  print(f'> Fold {i+1} - Loss: {loss_per_fold[i]} - Accuracy: {acc_per_fold[i]}%')\n",
        "print('------------------------------------------------------------------------------------------------------------')\n",
        "print('Average scores for all folds:')\n",
        "print(f'> Accuracy: {np.mean(acc_per_fold)} (+- {np.std(acc_per_fold)})')\n",
        "print(f'> Loss: {np.mean(loss_per_fold)}')\n",
        "print('-----------------------------------------------------------------------------------------------------------')"
      ],
      "metadata": {
        "colab": {
          "base_uri": "https://localhost:8080/"
        },
        "id": "-y96UqxGdOrP",
        "outputId": "9f9b4af8-4da9-4b58-9869-f58c524d3d33"
      },
      "execution_count": null,
      "outputs": [
        {
          "output_type": "stream",
          "name": "stdout",
          "text": [
            "------------------------------------------------------------------------------------------------------------\n",
            "Score per fold\n",
            "----------------------------------------------------------------------------------------------------------\n",
            "> Fold 1 - Loss: 2.0771045684814453 - Accuracy: 68.84999871253967%\n",
            "------------------------------------------------------------------------------------------------------------\n",
            "Average scores for all folds:\n",
            "> Accuracy: 68.84999871253967 (+- 0.0)\n",
            "> Loss: 2.0771045684814453\n",
            "-----------------------------------------------------------------------------------------------------------\n"
          ]
        }
      ]
    },
    {
      "cell_type": "code",
      "source": [],
      "metadata": {
        "id": "LxBPA6MedXkr"
      },
      "execution_count": null,
      "outputs": []
    }
  ]
}