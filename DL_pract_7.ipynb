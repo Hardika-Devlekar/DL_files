{
  "nbformat": 4,
  "nbformat_minor": 0,
  "metadata": {
    "colab": {
      "provenance": []
    },
    "kernelspec": {
      "name": "python3",
      "display_name": "Python 3"
    },
    "language_info": {
      "name": "python"
    }
  },
  "cells": [
    {
      "cell_type": "code",
      "execution_count": null,
      "metadata": {
        "colab": {
          "base_uri": "https://localhost:8080/"
        },
        "id": "SCBH3Uxpz45F",
        "outputId": "d9d74dd9-b40b-410b-aa03-fdfb4807a6fd"
      },
      "outputs": [
        {
          "output_type": "stream",
          "name": "stdout",
          "text": [
            "Downloading and preparing dataset 80.23 MiB (download: 80.23 MiB, generated: Unknown size, total: 80.23 MiB) to /root/tensorflow_datasets/imdb_reviews/plain_text/1.0.0...\n",
            "Dataset imdb_reviews downloaded and prepared to /root/tensorflow_datasets/imdb_reviews/plain_text/1.0.0. Subsequent calls will reuse this data.\n"
          ]
        },
        {
          "output_type": "execute_result",
          "data": {
            "text/plain": [
              "(TensorSpec(shape=(), dtype=tf.string, name=None),\n",
              " TensorSpec(shape=(), dtype=tf.int64, name=None))"
            ]
          },
          "metadata": {},
          "execution_count": 1
        }
      ],
      "source": [
        "import numpy as np\n",
        "import tensorflow_datasets as tfds\n",
        "import tensorflow as tf\n",
        "tfds.disable_progress_bar()\n",
        "\n",
        "dataset, info = tfds.load('imdb_reviews',with_info=True,\n",
        "as_supervised=True)\n",
        "train_dataset, test_dataset = dataset['train'], dataset['test']\n",
        "train_dataset.element_spec"
      ]
    },
    {
      "cell_type": "code",
      "source": [
        "for example, label in train_dataset.take(5):\n",
        "  print('text: ', example.numpy())\n",
        "  print('label: ', label.numpy())"
      ],
      "metadata": {
        "colab": {
          "base_uri": "https://localhost:8080/"
        },
        "id": "6YGQggNL0CZ9",
        "outputId": "e7f6cec1-e0a4-4905-f9c8-568031c2c388"
      },
      "execution_count": null,
      "outputs": [
        {
          "output_type": "stream",
          "name": "stdout",
          "text": [
            "text:  b\"This was an absolutely terrible movie. Don't be lured in by Christopher Walken or Michael Ironside. Both are great actors, but this must simply be their worst role in history. Even their great acting could not redeem this movie's ridiculous storyline. This movie is an early nineties US propaganda piece. The most pathetic scenes were those when the Columbian rebels were making their cases for revolutions. Maria Conchita Alonso appeared phony, and her pseudo-love affair with Walken was nothing but a pathetic emotional plug in a movie that was devoid of any real meaning. I am disappointed that there are movies like this, ruining actor's like Christopher Walken's good name. I could barely sit through it.\"\n",
            "label:  0\n",
            "text:  b'I have been known to fall asleep during films, but this is usually due to a combination of things including, really tired, being warm and comfortable on the sette and having just eaten a lot. However on this occasion I fell asleep because the film was rubbish. The plot development was constant. Constantly slow and boring. Things seemed to happen, but with no explanation of what was causing them or why. I admit, I may have missed part of the film, but i watched the majority of it and everything just seemed to happen of its own accord without any real concern for anything else. I cant recommend this film at all.'\n",
            "label:  0\n",
            "text:  b'Mann photographs the Alberta Rocky Mountains in a superb fashion, and Jimmy Stewart and Walter Brennan give enjoyable performances as they always seem to do. <br /><br />But come on Hollywood - a Mountie telling the people of Dawson City, Yukon to elect themselves a marshal (yes a marshal!) and to enforce the law themselves, then gunfighters battling it out on the streets for control of the town? <br /><br />Nothing even remotely resembling that happened on the Canadian side of the border during the Klondike gold rush. Mr. Mann and company appear to have mistaken Dawson City for Deadwood, the Canadian North for the American Wild West.<br /><br />Canadian viewers be prepared for a Reefer Madness type of enjoyable howl with this ludicrous plot, or, to shake your head in disgust.'\n",
            "label:  0\n",
            "text:  b'This is the kind of film for a snowy Sunday afternoon when the rest of the world can go ahead with its own business as you descend into a big arm-chair and mellow for a couple of hours. Wonderful performances from Cher and Nicolas Cage (as always) gently row the plot along. There are no rapids to cross, no dangerous waters, just a warm and witty paddle through New York life at its best. A family film in every sense and one that deserves the praise it received.'\n",
            "label:  1\n",
            "text:  b'As others have mentioned, all the women that go nude in this film are mostly absolutely gorgeous. The plot very ably shows the hypocrisy of the female libido. When men are around they want to be pursued, but when no \"men\" are around, they become the pursuers of a 14 year old boy. And the boy becomes a man really fast (we should all be so lucky at this age!). He then gets up the courage to pursue his true love.'\n",
            "label:  1\n"
          ]
        }
      ]
    },
    {
      "cell_type": "code",
      "source": [
        "BUFFER_SIZE = 10000\n",
        "BATCH_SIZE = 64\n",
        "\n",
        "train_dataset = train_dataset.shuffle(BUFFER_SIZE).batch(BATCH_SIZE).prefetch(tf.data.AUTOTUNE)\n",
        "test_dataset = test_dataset.batch(BATCH_SIZE).prefetch(tf.data.AUTOTUNE)\n",
        "\n",
        "for example, label in train_dataset.take(1):\n",
        "  print('texts: ', example.numpy()[:3])\n",
        "  print()\n",
        "  print('labels: ', label.numpy()[:3])"
      ],
      "metadata": {
        "colab": {
          "base_uri": "https://localhost:8080/"
        },
        "id": "Bs7BCglN0aVX",
        "outputId": "53da1d5c-993b-4c6a-d5b0-daaefed86064"
      },
      "execution_count": null,
      "outputs": [
        {
          "output_type": "stream",
          "name": "stdout",
          "text": [
            "texts:  [b\"Major Payne was really not very good at all. Despite being funny here and there, the story was ridiculous and the acting was poor. Major Payne's voice and temperament were especially annoying. The idea was ridiculous and the things that the boys had to do in that film were even more ridiculous. I would not recommend this film to anyone.\"\n",
            " b\"I got this film from a private collector and was very curious about it. It had a 7,8 in IMDb (9 votes only) and some external comments were pleasant. But I have to say that it is a very usual and uninteresting giallo. Yes, great cinematography, the film is well directed, but it never freaked me out. It starts well, but although it not bored me at all, the story is so ordinary and the things that occur so normal, that I didn't like it very much.<br /><br />You can make a few laughs. And you can see some little tits. But if you like the kind of giallos I like (bizarre, surreal, nonsenseful, gory, atmospheric, brutal murders...) you won't appreciate much this film.<br /><br />I give it a 4 for the good directing and editing, and the final twists, that make the film entertaining. But it could be much better.\"\n",
            " b'I noticed this movie was getting trashed well before it hit the theaters and I too didn\\'t have high hopes for it. I figured it was another \"You Got Served\" type of movie with some nice dance moves and horrid acting. I was at the theater and deciding between this and Meet the Spartans and picked this. To my surprise the acting wasn\\'t bad at all and the movie was actually pretty good. The fact that it has a lower rating than You Got Served is absolutely ridiculous. Instead of listening to the garbage posted on here I recommend going to see a matin\\xc3\\xa9e showing of this movie so you don\\'t spend too much. I think you will be pleasantly surprised with how wrong everyone has been about it. When it comes to dance movies this is certainly one of the better ones with far superior acting than many of the other ones. Go see the movie and judge for yourself. Hopefully the rating will rise after it comes out on DVD and more people check the movie out instead of judging it based on comments before the movie released.<br /><br />edit The movie is now moving closer to its correct rating. Over 1000 people have given it a rating of 9, a bit too high but at least it is helping to offset the ridiculous votes of 1.']\n",
            "\n",
            "labels:  [0 0 1]\n"
          ]
        }
      ]
    },
    {
      "cell_type": "code",
      "source": [
        "VOCAB_SIZE = 1000\n",
        "encoder = tf.keras.layers.TextVectorization(max_tokens=VOCAB_SIZE)\n",
        "encoder.adapt(train_dataset.map(lambda text, label: text))\n",
        "\n",
        "vocab = np.array(encoder.get_vocabulary())\n",
        "vocab[:20]"
      ],
      "metadata": {
        "colab": {
          "base_uri": "https://localhost:8080/"
        },
        "id": "QTOOqDnZ0eSV",
        "outputId": "55b33ac4-d09c-48e6-be83-934a6996fa63"
      },
      "execution_count": null,
      "outputs": [
        {
          "output_type": "execute_result",
          "data": {
            "text/plain": [
              "array(['', '[UNK]', 'the', 'and', 'a', 'of', 'to', 'is', 'in', 'it', 'i',\n",
              "       'this', 'that', 'br', 'was', 'as', 'for', 'with', 'movie', 'but'],\n",
              "      dtype='<U14')"
            ]
          },
          "metadata": {},
          "execution_count": 5
        }
      ]
    },
    {
      "cell_type": "code",
      "source": [
        "encoded_example = encoder(example)[:3].numpy()\n",
        "encoded_example"
      ],
      "metadata": {
        "colab": {
          "base_uri": "https://localhost:8080/"
        },
        "id": "hPJjVB1h1n5k",
        "outputId": "b2865119-2da0-4283-a1ea-4a5d675216ee"
      },
      "execution_count": null,
      "outputs": [
        {
          "output_type": "execute_result",
          "data": {
            "text/plain": [
              "array([[648,   1,  14, ...,   0,   0,   0],\n",
              "       [ 10, 183,  11, ...,   0,   0,   0],\n",
              "       [ 10,   1,  11, ...,   0,   0,   0]])"
            ]
          },
          "metadata": {},
          "execution_count": 6
        }
      ]
    },
    {
      "cell_type": "code",
      "source": [
        "for n in range(3):\n",
        "  print(\"Original: \", example[n].numpy())\n",
        "  print(\"Round-trip: \", \" \".join(vocab[encoded_example[n]]))\n",
        "  print()"
      ],
      "metadata": {
        "colab": {
          "base_uri": "https://localhost:8080/"
        },
        "id": "4FEPXJej1qdr",
        "outputId": "d7ea0388-32f8-45a9-c3e8-24a29624f894"
      },
      "execution_count": null,
      "outputs": [
        {
          "output_type": "stream",
          "name": "stdout",
          "text": [
            "Original:  b\"Major Payne was really not very good at all. Despite being funny here and there, the story was ridiculous and the acting was poor. Major Payne's voice and temperament were especially annoying. The idea was ridiculous and the things that the boys had to do in that film were even more ridiculous. I would not recommend this film to anyone.\"\n",
            "Round-trip:  major [UNK] was really not very good at all despite being funny here and there the story was ridiculous and the acting was poor major [UNK] voice and [UNK] were especially annoying the idea was ridiculous and the things that the boys had to do in that film were even more ridiculous i would not recommend this film to anyone                                                                                                                                                                                                                                                                                                                                                                                                                                                                                                                                                                                                                                                                                                                                                                                                                                                                                 \n",
            "\n",
            "Original:  b\"I got this film from a private collector and was very curious about it. It had a 7,8 in IMDb (9 votes only) and some external comments were pleasant. But I have to say that it is a very usual and uninteresting giallo. Yes, great cinematography, the film is well directed, but it never freaked me out. It starts well, but although it not bored me at all, the story is so ordinary and the things that occur so normal, that I didn't like it very much.<br /><br />You can make a few laughs. And you can see some little tits. But if you like the kind of giallos I like (bizarre, surreal, nonsenseful, gory, atmospheric, brutal murders...) you won't appreciate much this film.<br /><br />I give it a 4 for the good directing and editing, and the final twists, that make the film entertaining. But it could be much better.\"\n",
            "Round-trip:  i got this film from a [UNK] [UNK] and was very [UNK] about it it had a [UNK] in imdb [UNK] [UNK] only and some [UNK] comments were [UNK] but i have to say that it is a very usual and [UNK] [UNK] yes great cinematography the film is well directed but it never [UNK] me out it starts well but although it not [UNK] me at all the story is so [UNK] and the things that [UNK] so [UNK] that i didnt like it very [UNK] br you can make a few laughs and you can see some little [UNK] but if you like the kind of [UNK] i like [UNK] [UNK] [UNK] [UNK] [UNK] [UNK] [UNK] you wont [UNK] much this filmbr br i give it a 4 for the good directing and editing and the final [UNK] that make the film entertaining but it could be much better                                                                                                                                                                                                                                                                                                                                                                                                                                                                                                                                                                                                                                                                                                                                                                                      \n",
            "\n",
            "Original:  b'I noticed this movie was getting trashed well before it hit the theaters and I too didn\\'t have high hopes for it. I figured it was another \"You Got Served\" type of movie with some nice dance moves and horrid acting. I was at the theater and deciding between this and Meet the Spartans and picked this. To my surprise the acting wasn\\'t bad at all and the movie was actually pretty good. The fact that it has a lower rating than You Got Served is absolutely ridiculous. Instead of listening to the garbage posted on here I recommend going to see a matin\\xc3\\xa9e showing of this movie so you don\\'t spend too much. I think you will be pleasantly surprised with how wrong everyone has been about it. When it comes to dance movies this is certainly one of the better ones with far superior acting than many of the other ones. Go see the movie and judge for yourself. Hopefully the rating will rise after it comes out on DVD and more people check the movie out instead of judging it based on comments before the movie released.<br /><br />edit The movie is now moving closer to its correct rating. Over 1000 people have given it a rating of 9, a bit too high but at least it is helping to offset the ridiculous votes of 1.'\n",
            "Round-trip:  i [UNK] this movie was getting [UNK] well before it hit the [UNK] and i too didnt have high [UNK] for it i [UNK] it was another you got [UNK] type of movie with some nice dance [UNK] and [UNK] acting i was at the theater and [UNK] between this and meet the [UNK] and [UNK] this to my surprise the acting wasnt bad at all and the movie was actually pretty good the fact that it has a [UNK] rating than you got [UNK] is absolutely ridiculous instead of [UNK] to the [UNK] [UNK] on here i recommend going to see a [UNK] showing of this movie so you dont [UNK] too much i think you will be [UNK] surprised with how wrong everyone has been about it when it comes to dance movies this is certainly one of the better ones with far [UNK] acting than many of the other ones go see the movie and [UNK] for yourself [UNK] the rating will [UNK] after it comes out on dvd and more people check the movie out instead of [UNK] it based on comments before the movie [UNK] br [UNK] the movie is now moving [UNK] to its [UNK] rating over [UNK] people have given it a rating of [UNK] a bit too high but at least it is [UNK] to [UNK] the ridiculous [UNK] of 1                                                                                                                                                                                                                                                                                                                                                                                                                                                                                                                                                                                                                                                                                                        \n",
            "\n"
          ]
        }
      ]
    },
    {
      "cell_type": "code",
      "source": [
        "model = tf.keras.Sequential([\n",
        "    encoder,\n",
        "    tf.keras.layers.Embedding(\n",
        "        input_dim=len(encoder.get_vocabulary()),\n",
        "        output_dim=64,\n",
        "\n",
        " # Use masking to handle the variable sequence lengths\n",
        "        mask_zero=True),\n",
        "    tf.keras.layers.Bidirectional(tf.keras.layers.LSTM(64)),\n",
        "    tf.keras.layers.Dense(64, activation='relu'),\n",
        "    tf.keras.layers.Dense(1)\n",
        "])\n",
        "\n",
        "print([layer.supports_masking for layer in model.layers])"
      ],
      "metadata": {
        "colab": {
          "base_uri": "https://localhost:8080/"
        },
        "id": "gt-0jX772OjB",
        "outputId": "98e21244-50d3-4c5b-ca56-62af5544cd24"
      },
      "execution_count": null,
      "outputs": [
        {
          "output_type": "stream",
          "name": "stdout",
          "text": [
            "[False, True, True, True, True]\n"
          ]
        }
      ]
    },
    {
      "cell_type": "code",
      "source": [
        "# predict on a sample text without padding.\n",
        "\n",
        "sample_text = ('The movie was cool. The animation and the graphics were out of this world. I would recommend this movie.')\n",
        "predictions = model.predict(np.array([sample_text]))\n",
        "print(predictions[0])"
      ],
      "metadata": {
        "colab": {
          "base_uri": "https://localhost:8080/"
        },
        "id": "7PGqEVXa2ShN",
        "outputId": "c67caa9b-a801-4310-ee79-c09f3ad9d730"
      },
      "execution_count": null,
      "outputs": [
        {
          "output_type": "stream",
          "name": "stdout",
          "text": [
            "1/1 [==============================] - 3s 3s/step\n",
            "[-0.0107784]\n"
          ]
        }
      ]
    },
    {
      "cell_type": "code",
      "source": [
        "# predict on a sample text with padding\n",
        "\n",
        "padding = \"the \" * 2000\n",
        "predictions = model.predict(np.array([sample_text, padding]))\n",
        "print(predictions[0])"
      ],
      "metadata": {
        "colab": {
          "base_uri": "https://localhost:8080/"
        },
        "id": "7zNVNLy82WCR",
        "outputId": "24db66eb-deac-43c2-c350-529421e3dbfb"
      },
      "execution_count": null,
      "outputs": [
        {
          "output_type": "stream",
          "name": "stdout",
          "text": [
            "1/1 [==============================] - 1s 501ms/step\n",
            "[-0.0107784]\n"
          ]
        }
      ]
    },
    {
      "cell_type": "code",
      "source": [],
      "metadata": {
        "id": "psbYDKdw3LVL"
      },
      "execution_count": null,
      "outputs": []
    }
  ]
}